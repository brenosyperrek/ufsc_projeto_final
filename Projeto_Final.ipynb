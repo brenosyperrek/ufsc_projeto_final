{
  "nbformat": 4,
  "nbformat_minor": 0,
  "metadata": {
    "colab": {
      "provenance": [],
      "collapsed_sections": [
        "8y8ODeognG59",
        "DPRyf68RrGCg",
        "oa2v1GP4sf6-",
        "xyWvLNEkulBC"
      ],
      "mount_file_id": "1L6hqnKhQDKl3lrV8SRAh4_MiHI5_wL-9",
      "authorship_tag": "ABX9TyPfClDDJRlgOGBXFpWDtsYM",
      "include_colab_link": true
    },
    "kernelspec": {
      "name": "python3",
      "display_name": "Python 3"
    },
    "language_info": {
      "name": "python"
    }
  },
  "cells": [
    {
      "cell_type": "markdown",
      "metadata": {
        "id": "view-in-github",
        "colab_type": "text"
      },
      "source": [
        "<a href=\"https://colab.research.google.com/github/brenosyperrek/ufsc_projeto_final/blob/main/Projeto_Final.ipynb\" target=\"_parent\"><img src=\"https://colab.research.google.com/assets/colab-badge.svg\" alt=\"Open In Colab\"/></a>"
      ]
    },
    {
      "cell_type": "markdown",
      "source": [
        "# Importando, padronizando e concatenando dados"
      ],
      "metadata": {
        "id": "8y8ODeognG59"
      }
    },
    {
      "cell_type": "code",
      "source": [
        "import pandas as pd"
      ],
      "metadata": {
        "id": "nX7UeGu1nWNZ"
      },
      "execution_count": null,
      "outputs": []
    },
    {
      "cell_type": "markdown",
      "source": [
        "## Tratando arquivos 'bol'"
      ],
      "metadata": {
        "id": "9C8lwicVMirX"
      }
    },
    {
      "cell_type": "code",
      "source": [
        "df_bol_2011 = pd.read_csv('/content/drive/MyDrive/Colab Notebooks/Projeto Grupo 12/Datasets/si-bol-2011.csv', encoding='iso8859-1', sep = \";\", skipinitialspace = True)\n",
        "df_bol_2011.shape"
      ],
      "metadata": {
        "colab": {
          "base_uri": "https://localhost:8080/"
        },
        "id": "qOszU-gtEESj",
        "outputId": "b948bf02-7130-4fa2-e583-223c13865a62"
      },
      "execution_count": null,
      "outputs": [
        {
          "output_type": "execute_result",
          "data": {
            "text/plain": [
              "(16294, 23)"
            ]
          },
          "metadata": {},
          "execution_count": 670
        }
      ]
    },
    {
      "cell_type": "code",
      "source": [
        "df_bol_2011.columns"
      ],
      "metadata": {
        "colab": {
          "base_uri": "https://localhost:8080/"
        },
        "id": "9_1WEVeyGhnc",
        "outputId": "4f285a0f-09fe-4da1-945e-5a3b2c95ef58"
      },
      "execution_count": null,
      "outputs": [
        {
          "output_type": "execute_result",
          "data": {
            "text/plain": [
              "Index(['numero_boletim', 'data hora_boletim', 'data_inclusao', 'tipo_acidente',\n",
              "       'desc_tipo_acidente', 'cod_tempo', 'desc_tempo', 'cod_pavimento',\n",
              "       'pavimento', 'cod_regional', 'desc_regional', 'origem_boletim',\n",
              "       'local_sinalizado', 'velocidade_permitida', 'coordenada_x',\n",
              "       'coordenada_y', 'hora_informada', 'indicador_fatalidade', 'valor_ups',\n",
              "       'descricao_ups', 'data_alteracao_smsa', 'valor_ups_antiga',\n",
              "       'descricao_ups_antiga'],\n",
              "      dtype='object')"
            ]
          },
          "metadata": {},
          "execution_count": 671
        }
      ]
    },
    {
      "cell_type": "code",
      "source": [
        "df_bol_2011.rename(columns = {'numero_boletim' : 'NUMERO_BOLETIM',\n",
        "                              'data hora_boletim' : 'DATA_HORA_BOLETIM',\n",
        "                              'data_inclusao' : 'DATA_INCLUSAO',\n",
        "                              'tipo_acidente' : 'TIPO_ACIDENTE',\n",
        "                              'desc_tipo_acidente' : 'DESC_TIPO_ACIDENTE',\n",
        "                              'cod_tempo' : 'COD_TEMPO',\n",
        "                              'desc_tempo' : 'DESC_TEMPO',\n",
        "                              'cod_pavimento' : 'COD_PAVIMENTO',\n",
        "                              'pavimento' : 'PAVIMENTO',\n",
        "                              'cod_regional' : 'COD_REGIONAL',\n",
        "                              'desc_regional' : 'DESC_REGIONAL',\n",
        "                              'origem_boletim' : 'ORIGEM_BOLETIM',\n",
        "                              'local_sinalizado' : 'LOCAL_SINALIZADO',\n",
        "                              'velocidade_permitida' : 'VELOCIDADE_PERMITIDA',\n",
        "                              'coordenada_x' : 'COORDENADA_X',\n",
        "                              'coordenada_y' : 'COORDENADA_Y',\n",
        "                              'hora_informada' : 'HORA_INFORMADA',\n",
        "                              'indicador_fatalidade' : 'INDICADOR_FATALIDADE',\n",
        "                              'valor_ups' : 'VALOR_UPS',\n",
        "                              'descricao_ups' : 'DESC_UPS',\n",
        "                              'data_alteracao_smsa' : 'DATA_ALTERACAO_SMSA',\n",
        "                              'valor_ups_antiga' : 'VALOR_UPS_ANTIGA',\n",
        "                              'descricao_ups_antiga' : 'DESC_UPS_ANTIGA'}, inplace = True)"
      ],
      "metadata": {
        "id": "neSDYnTPGoZE"
      },
      "execution_count": null,
      "outputs": []
    },
    {
      "cell_type": "code",
      "source": [
        "df_bol_2011.columns"
      ],
      "metadata": {
        "colab": {
          "base_uri": "https://localhost:8080/"
        },
        "id": "45dg9YfgJAww",
        "outputId": "7c4d0c69-2bab-4a87-af6d-689d0cb20a17"
      },
      "execution_count": null,
      "outputs": [
        {
          "output_type": "execute_result",
          "data": {
            "text/plain": [
              "Index(['NUMERO_BOLETIM', 'DATA_HORA_BOLETIM', 'DATA_INCLUSAO', 'TIPO_ACIDENTE',\n",
              "       'DESC_TIPO_ACIDENTE', 'COD_TEMPO', 'DESC_TEMPO', 'COD_PAVIMENTO',\n",
              "       'PAVIMENTO', 'COD_REGIONAL', 'DESC_REGIONAL', 'ORIGEM_BOLETIM',\n",
              "       'LOCAL_SINALIZADO', 'VELOCIDADE_PERMITIDA', 'COORDENADA_X',\n",
              "       'COORDENADA_Y', 'HORA_INFORMADA', 'INDICADOR_FATALIDADE', 'VALOR_UPS',\n",
              "       'DESC_UPS', 'DATA_ALTERACAO_SMSA', 'VALOR_UPS_ANTIGA',\n",
              "       'DESC_UPS_ANTIGA'],\n",
              "      dtype='object')"
            ]
          },
          "metadata": {},
          "execution_count": 673
        }
      ]
    },
    {
      "cell_type": "code",
      "source": [
        "df_bol_2012 = pd.read_csv('/content/drive/MyDrive/Colab Notebooks/Projeto Grupo 12/Datasets/si-bol-2012.csv', encoding='iso8859-1', sep = \";\", skipinitialspace = True)\n",
        "df_bol_2012.shape"
      ],
      "metadata": {
        "colab": {
          "base_uri": "https://localhost:8080/"
        },
        "id": "JuGg0TTlEEI9",
        "outputId": "89b39c8f-cb87-40f5-cbd0-4e63e7c74ad0"
      },
      "execution_count": null,
      "outputs": [
        {
          "output_type": "execute_result",
          "data": {
            "text/plain": [
              "(15261, 23)"
            ]
          },
          "metadata": {},
          "execution_count": 674
        }
      ]
    },
    {
      "cell_type": "code",
      "source": [
        "df_bol_2012.columns"
      ],
      "metadata": {
        "colab": {
          "base_uri": "https://localhost:8080/"
        },
        "id": "cWrlAOFVJJ2r",
        "outputId": "e151ceab-b38f-4e4c-986b-a46009c9bfea"
      },
      "execution_count": null,
      "outputs": [
        {
          "output_type": "execute_result",
          "data": {
            "text/plain": [
              "Index(['numero_boletim', 'data hora_boletim', 'data_inclusao', 'tipo_acidente',\n",
              "       'desc_tipo_acidente', 'cod_tempo', 'desc_tempo', 'cod_pavimento',\n",
              "       'pavimento', 'cod_regional', 'desc_regional', 'origem_boletim',\n",
              "       'local_sinalizado', 'velocidade_permitida', 'coordenada_x',\n",
              "       'coordenada_y', 'hora_informada', 'indicador_fatalidade', 'valor_ups',\n",
              "       'descricao_ups', 'data_alteracao_smsa', 'valor_ups_antiga',\n",
              "       'descricao_ups_antiga'],\n",
              "      dtype='object')"
            ]
          },
          "metadata": {},
          "execution_count": 675
        }
      ]
    },
    {
      "cell_type": "code",
      "source": [
        "df_bol_2012.rename(columns = {'numero_boletim' : 'NUMERO_BOLETIM',\n",
        "                              'data hora_boletim' : 'DATA_HORA_BOLETIM',\n",
        "                              'data_inclusao' : 'DATA_INCLUSAO',\n",
        "                              'tipo_acidente' : 'TIPO_ACIDENTE',\n",
        "                              'desc_tipo_acidente' : 'DESC_TIPO_ACIDENTE',\n",
        "                              'cod_tempo' : 'COD_TEMPO',\n",
        "                              'desc_tempo' : 'DESC_TEMPO',\n",
        "                              'cod_pavimento' : 'COD_PAVIMENTO',\n",
        "                              'pavimento' : 'PAVIMENTO',\n",
        "                              'cod_regional' : 'COD_REGIONAL',\n",
        "                              'desc_regional' : 'DESC_REGIONAL',\n",
        "                              'origem_boletim' : 'ORIGEM_BOLETIM',\n",
        "                              'local_sinalizado' : 'LOCAL_SINALIZADO',\n",
        "                              'velocidade_permitida' : 'VELOCIDADE_PERMITIDA',\n",
        "                              'coordenada_x' : 'COORDENADA_X',\n",
        "                              'coordenada_y' : 'COORDENADA_Y',\n",
        "                              'hora_informada' : 'HORA_INFORMADA',\n",
        "                              'indicador_fatalidade' : 'INDICADOR_FATALIDADE',\n",
        "                              'valor_ups' : 'VALOR_UPS',\n",
        "                              'descricao_ups' : 'DESC_UPS',\n",
        "                              'data_alteracao_smsa' : 'DATA_ALTERACAO_SMSA',\n",
        "                              'valor_ups_antiga' : 'VALOR_UPS_ANTIGA',\n",
        "                              'descricao_ups_antiga' : 'DESC_UPS_ANTIGA'}, inplace = True)"
      ],
      "metadata": {
        "id": "1-oIRk1QJNuS"
      },
      "execution_count": null,
      "outputs": []
    },
    {
      "cell_type": "code",
      "source": [
        "df_bol_2012.columns"
      ],
      "metadata": {
        "colab": {
          "base_uri": "https://localhost:8080/"
        },
        "id": "rX9BUuPCJWMw",
        "outputId": "01571d09-28e8-4f81-ec23-1b4f66174474"
      },
      "execution_count": null,
      "outputs": [
        {
          "output_type": "execute_result",
          "data": {
            "text/plain": [
              "Index(['NUMERO_BOLETIM', 'DATA_HORA_BOLETIM', 'DATA_INCLUSAO', 'TIPO_ACIDENTE',\n",
              "       'DESC_TIPO_ACIDENTE', 'COD_TEMPO', 'DESC_TEMPO', 'COD_PAVIMENTO',\n",
              "       'PAVIMENTO', 'COD_REGIONAL', 'DESC_REGIONAL', 'ORIGEM_BOLETIM',\n",
              "       'LOCAL_SINALIZADO', 'VELOCIDADE_PERMITIDA', 'COORDENADA_X',\n",
              "       'COORDENADA_Y', 'HORA_INFORMADA', 'INDICADOR_FATALIDADE', 'VALOR_UPS',\n",
              "       'DESC_UPS', 'DATA_ALTERACAO_SMSA', 'VALOR_UPS_ANTIGA',\n",
              "       'DESC_UPS_ANTIGA'],\n",
              "      dtype='object')"
            ]
          },
          "metadata": {},
          "execution_count": 677
        }
      ]
    },
    {
      "cell_type": "code",
      "source": [
        "df_bol_2013 = pd.read_csv('/content/drive/MyDrive/Colab Notebooks/Projeto Grupo 12/Datasets/si-bol-2013.csv', encoding='iso8859-1', sep = \";\", skipinitialspace = True)\n",
        "df_bol_2013.shape"
      ],
      "metadata": {
        "colab": {
          "base_uri": "https://localhost:8080/"
        },
        "id": "_X_kdbAcED-v",
        "outputId": "1d1fec14-048b-4e0e-95ac-51996fe8349a"
      },
      "execution_count": null,
      "outputs": [
        {
          "output_type": "execute_result",
          "data": {
            "text/plain": [
              "(14145, 23)"
            ]
          },
          "metadata": {},
          "execution_count": 678
        }
      ]
    },
    {
      "cell_type": "code",
      "source": [
        "df_bol_2013.columns"
      ],
      "metadata": {
        "colab": {
          "base_uri": "https://localhost:8080/"
        },
        "id": "ovvdkbRuJbho",
        "outputId": "b2ac8070-a5de-466a-cd3b-c82020d95ed5"
      },
      "execution_count": null,
      "outputs": [
        {
          "output_type": "execute_result",
          "data": {
            "text/plain": [
              "Index(['numero_boletim', 'data hora_boletim', 'data_inclusao', 'tipo_acidente',\n",
              "       'desc_tipo_acidente', 'cod_tempo', 'desc_tempo', 'cod_pavimento',\n",
              "       'pavimento', 'cod_regional', 'desc_regional', 'origem_boletim',\n",
              "       'local_sinalizado', 'velocidade_permitida', 'coordenada_x',\n",
              "       'coordenada_y', 'hora_informada', 'indicador_fatalidade', 'valor_ups',\n",
              "       'descricao_ups', 'data_alteracao_smsa', 'valor_ups_antiga',\n",
              "       'descricao_ups_antiga'],\n",
              "      dtype='object')"
            ]
          },
          "metadata": {},
          "execution_count": 679
        }
      ]
    },
    {
      "cell_type": "code",
      "source": [
        "df_bol_2013.rename(columns = {'numero_boletim' : 'NUMERO_BOLETIM',\n",
        "                              'data hora_boletim' : 'DATA_HORA_BOLETIM',\n",
        "                              'data_inclusao' : 'DATA_INCLUSAO',\n",
        "                              'tipo_acidente' : 'TIPO_ACIDENTE',\n",
        "                              'desc_tipo_acidente' : 'DESC_TIPO_ACIDENTE',\n",
        "                              'cod_tempo' : 'COD_TEMPO',\n",
        "                              'desc_tempo' : 'DESC_TEMPO',\n",
        "                              'cod_pavimento' : 'COD_PAVIMENTO',\n",
        "                              'pavimento' : 'PAVIMENTO',\n",
        "                              'cod_regional' : 'COD_REGIONAL',\n",
        "                              'desc_regional' : 'DESC_REGIONAL',\n",
        "                              'origem_boletim' : 'ORIGEM_BOLETIM',\n",
        "                              'local_sinalizado' : 'LOCAL_SINALIZADO',\n",
        "                              'velocidade_permitida' : 'VELOCIDADE_PERMITIDA',\n",
        "                              'coordenada_x' : 'COORDENADA_X',\n",
        "                              'coordenada_y' : 'COORDENADA_Y',\n",
        "                              'hora_informada' : 'HORA_INFORMADA',\n",
        "                              'indicador_fatalidade' : 'INDICADOR_FATALIDADE',\n",
        "                              'valor_ups' : 'VALOR_UPS',\n",
        "                              'descricao_ups' : 'DESC_UPS',\n",
        "                              'data_alteracao_smsa' : 'DATA_ALTERACAO_SMSA',\n",
        "                              'valor_ups_antiga' : 'VALOR_UPS_ANTIGA',\n",
        "                              'descricao_ups_antiga' : 'DESC_UPS_ANTIGA'}, inplace = True)"
      ],
      "metadata": {
        "id": "6r-d0oLWJbTg"
      },
      "execution_count": null,
      "outputs": []
    },
    {
      "cell_type": "code",
      "source": [
        "df_bol_2013.columns"
      ],
      "metadata": {
        "colab": {
          "base_uri": "https://localhost:8080/"
        },
        "id": "PK0MtLG0JbEz",
        "outputId": "584dcf21-81d3-4e44-f42d-14ede0909a83"
      },
      "execution_count": null,
      "outputs": [
        {
          "output_type": "execute_result",
          "data": {
            "text/plain": [
              "Index(['NUMERO_BOLETIM', 'DATA_HORA_BOLETIM', 'DATA_INCLUSAO', 'TIPO_ACIDENTE',\n",
              "       'DESC_TIPO_ACIDENTE', 'COD_TEMPO', 'DESC_TEMPO', 'COD_PAVIMENTO',\n",
              "       'PAVIMENTO', 'COD_REGIONAL', 'DESC_REGIONAL', 'ORIGEM_BOLETIM',\n",
              "       'LOCAL_SINALIZADO', 'VELOCIDADE_PERMITIDA', 'COORDENADA_X',\n",
              "       'COORDENADA_Y', 'HORA_INFORMADA', 'INDICADOR_FATALIDADE', 'VALOR_UPS',\n",
              "       'DESC_UPS', 'DATA_ALTERACAO_SMSA', 'VALOR_UPS_ANTIGA',\n",
              "       'DESC_UPS_ANTIGA'],\n",
              "      dtype='object')"
            ]
          },
          "metadata": {},
          "execution_count": 681
        }
      ]
    },
    {
      "cell_type": "code",
      "source": [
        "df_bol_2014 = pd.read_csv('/content/drive/MyDrive/Colab Notebooks/Projeto Grupo 12/Datasets/si-bol-2014.csv', encoding='iso8859-1', sep = \";\", skipinitialspace = True)\n",
        "df_bol_2014.shape"
      ],
      "metadata": {
        "colab": {
          "base_uri": "https://localhost:8080/"
        },
        "id": "rBPgEOO4EDxd",
        "outputId": "219c3d0f-00aa-40df-96ae-df341f675b8c"
      },
      "execution_count": null,
      "outputs": [
        {
          "output_type": "execute_result",
          "data": {
            "text/plain": [
              "(14965, 23)"
            ]
          },
          "metadata": {},
          "execution_count": 682
        }
      ]
    },
    {
      "cell_type": "code",
      "source": [
        "df_bol_2014.columns"
      ],
      "metadata": {
        "colab": {
          "base_uri": "https://localhost:8080/"
        },
        "id": "BhpoBm4eJlMU",
        "outputId": "a79a72b3-d15d-4eb3-b9b8-297c3d13557c"
      },
      "execution_count": null,
      "outputs": [
        {
          "output_type": "execute_result",
          "data": {
            "text/plain": [
              "Index(['numero_boletim', 'data hora_boletim', 'data_inclusao', 'tipo_acidente',\n",
              "       'desc_tipo_acidente', 'cod_tempo', 'desc_tempo', 'cod_pavimento',\n",
              "       'pavimento', 'cod_regional', 'desc_regional', 'origem_boletim',\n",
              "       'local_sinalizado', 'velocidade_permitida', 'coordenada_x',\n",
              "       'coordenada_y', 'hora_informada', 'indicador_fatalidade', 'valor_ups',\n",
              "       'descricao_ups', 'data_alteracao_smsa', 'valor_ups_antiga',\n",
              "       'descricao_ups_antiga'],\n",
              "      dtype='object')"
            ]
          },
          "metadata": {},
          "execution_count": 683
        }
      ]
    },
    {
      "cell_type": "code",
      "source": [
        "df_bol_2014.rename(columns = {'numero_boletim' : 'NUMERO_BOLETIM',\n",
        "                              'data hora_boletim' : 'DATA_HORA_BOLETIM',\n",
        "                              'data_inclusao' : 'DATA_INCLUSAO',\n",
        "                              'tipo_acidente' : 'TIPO_ACIDENTE',\n",
        "                              'desc_tipo_acidente' : 'DESC_TIPO_ACIDENTE',\n",
        "                              'cod_tempo' : 'COD_TEMPO',\n",
        "                              'desc_tempo' : 'DESC_TEMPO',\n",
        "                              'cod_pavimento' : 'COD_PAVIMENTO',\n",
        "                              'pavimento' : 'PAVIMENTO',\n",
        "                              'cod_regional' : 'COD_REGIONAL',\n",
        "                              'desc_regional' : 'DESC_REGIONAL',\n",
        "                              'origem_boletim' : 'ORIGEM_BOLETIM',\n",
        "                              'local_sinalizado' : 'LOCAL_SINALIZADO',\n",
        "                              'velocidade_permitida' : 'VELOCIDADE_PERMITIDA',\n",
        "                              'coordenada_x' : 'COORDENADA_X',\n",
        "                              'coordenada_y' : 'COORDENADA_Y',\n",
        "                              'hora_informada' : 'HORA_INFORMADA',\n",
        "                              'indicador_fatalidade' : 'INDICADOR_FATALIDADE',\n",
        "                              'valor_ups' : 'VALOR_UPS',\n",
        "                              'descricao_ups' : 'DESC_UPS',\n",
        "                              'data_alteracao_smsa' : 'DATA_ALTERACAO_SMSA',\n",
        "                              'valor_ups_antiga' : 'VALOR_UPS_ANTIGA',\n",
        "                              'descricao_ups_antiga' : 'DESC_UPS_ANTIGA'}, inplace = True)"
      ],
      "metadata": {
        "id": "NEoUSQ-8Jky4"
      },
      "execution_count": null,
      "outputs": []
    },
    {
      "cell_type": "code",
      "source": [
        "df_bol_2014.columns"
      ],
      "metadata": {
        "colab": {
          "base_uri": "https://localhost:8080/"
        },
        "id": "TZp4LMTUJkqg",
        "outputId": "f061ff88-6089-4a22-ef69-de5aac6812b4"
      },
      "execution_count": null,
      "outputs": [
        {
          "output_type": "execute_result",
          "data": {
            "text/plain": [
              "Index(['NUMERO_BOLETIM', 'DATA_HORA_BOLETIM', 'DATA_INCLUSAO', 'TIPO_ACIDENTE',\n",
              "       'DESC_TIPO_ACIDENTE', 'COD_TEMPO', 'DESC_TEMPO', 'COD_PAVIMENTO',\n",
              "       'PAVIMENTO', 'COD_REGIONAL', 'DESC_REGIONAL', 'ORIGEM_BOLETIM',\n",
              "       'LOCAL_SINALIZADO', 'VELOCIDADE_PERMITIDA', 'COORDENADA_X',\n",
              "       'COORDENADA_Y', 'HORA_INFORMADA', 'INDICADOR_FATALIDADE', 'VALOR_UPS',\n",
              "       'DESC_UPS', 'DATA_ALTERACAO_SMSA', 'VALOR_UPS_ANTIGA',\n",
              "       'DESC_UPS_ANTIGA'],\n",
              "      dtype='object')"
            ]
          },
          "metadata": {},
          "execution_count": 685
        }
      ]
    },
    {
      "cell_type": "code",
      "source": [
        "df_bol_2015 = pd.read_csv('/content/drive/MyDrive/Colab Notebooks/Projeto Grupo 12/Datasets/si-bol-2015.csv', encoding='iso8859-1', sep = \";\", skipinitialspace = True)\n",
        "df_bol_2015.shape"
      ],
      "metadata": {
        "colab": {
          "base_uri": "https://localhost:8080/"
        },
        "id": "2j3n1Rz2EDdN",
        "outputId": "1442402e-ddd5-4362-846b-3547f7ff61a9"
      },
      "execution_count": null,
      "outputs": [
        {
          "output_type": "execute_result",
          "data": {
            "text/plain": [
              "(13299, 23)"
            ]
          },
          "metadata": {},
          "execution_count": 686
        }
      ]
    },
    {
      "cell_type": "code",
      "source": [
        "df_bol_2015.columns"
      ],
      "metadata": {
        "colab": {
          "base_uri": "https://localhost:8080/"
        },
        "id": "892KKmqWJvom",
        "outputId": "7fff6a64-b1ca-48ee-ccc2-39ebee841c27"
      },
      "execution_count": null,
      "outputs": [
        {
          "output_type": "execute_result",
          "data": {
            "text/plain": [
              "Index(['numero_boletim', 'data hora_boletim', 'data_inclusao', 'tipo_acidente',\n",
              "       'desc_tipo_acidente', 'cod_tempo', 'desc_tempo', 'cod_pavimento',\n",
              "       'pavimento', 'cod_regional', 'desc_regional', 'origem_boletim',\n",
              "       'local_sinalizado', 'velocidade_permitida', 'coordenada_x',\n",
              "       'coordenada_y', 'hora_informada', 'indicador_fatalidade', 'valor_ups',\n",
              "       'descricao_ups', 'data_alteracao_smsa', 'valor_ups_antiga',\n",
              "       'descricao_ups_antiga'],\n",
              "      dtype='object')"
            ]
          },
          "metadata": {},
          "execution_count": 687
        }
      ]
    },
    {
      "cell_type": "code",
      "source": [
        "df_bol_2015.rename(columns = {'numero_boletim' : 'NUMERO_BOLETIM',\n",
        "                              'data hora_boletim' : 'DATA_HORA_BOLETIM',\n",
        "                              'data_inclusao' : 'DATA_INCLUSAO',\n",
        "                              'tipo_acidente' : 'TIPO_ACIDENTE',\n",
        "                              'desc_tipo_acidente' : 'DESC_TIPO_ACIDENTE',\n",
        "                              'cod_tempo' : 'COD_TEMPO',\n",
        "                              'desc_tempo' : 'DESC_TEMPO',\n",
        "                              'cod_pavimento' : 'COD_PAVIMENTO',\n",
        "                              'pavimento' : 'PAVIMENTO',\n",
        "                              'cod_regional' : 'COD_REGIONAL',\n",
        "                              'desc_regional' : 'DESC_REGIONAL',\n",
        "                              'origem_boletim' : 'ORIGEM_BOLETIM',\n",
        "                              'local_sinalizado' : 'LOCAL_SINALIZADO',\n",
        "                              'velocidade_permitida' : 'VELOCIDADE_PERMITIDA',\n",
        "                              'coordenada_x' : 'COORDENADA_X',\n",
        "                              'coordenada_y' : 'COORDENADA_Y',\n",
        "                              'hora_informada' : 'HORA_INFORMADA',\n",
        "                              'indicador_fatalidade' : 'INDICADOR_FATALIDADE',\n",
        "                              'valor_ups' : 'VALOR_UPS',\n",
        "                              'descricao_ups' : 'DESC_UPS',\n",
        "                              'data_alteracao_smsa' : 'DATA_ALTERACAO_SMSA',\n",
        "                              'valor_ups_antiga' : 'VALOR_UPS_ANTIGA',\n",
        "                              'descricao_ups_antiga' : 'DESC_UPS_ANTIGA'}, inplace = True)"
      ],
      "metadata": {
        "id": "16UcfiAXJvdL"
      },
      "execution_count": null,
      "outputs": []
    },
    {
      "cell_type": "code",
      "source": [
        "df_bol_2015.columns"
      ],
      "metadata": {
        "colab": {
          "base_uri": "https://localhost:8080/"
        },
        "id": "OZLy3NLPJvUC",
        "outputId": "521ed934-11c0-42ee-d025-8174da666d0e"
      },
      "execution_count": null,
      "outputs": [
        {
          "output_type": "execute_result",
          "data": {
            "text/plain": [
              "Index(['NUMERO_BOLETIM', 'DATA_HORA_BOLETIM', 'DATA_INCLUSAO', 'TIPO_ACIDENTE',\n",
              "       'DESC_TIPO_ACIDENTE', 'COD_TEMPO', 'DESC_TEMPO', 'COD_PAVIMENTO',\n",
              "       'PAVIMENTO', 'COD_REGIONAL', 'DESC_REGIONAL', 'ORIGEM_BOLETIM',\n",
              "       'LOCAL_SINALIZADO', 'VELOCIDADE_PERMITIDA', 'COORDENADA_X',\n",
              "       'COORDENADA_Y', 'HORA_INFORMADA', 'INDICADOR_FATALIDADE', 'VALOR_UPS',\n",
              "       'DESC_UPS', 'DATA_ALTERACAO_SMSA', 'VALOR_UPS_ANTIGA',\n",
              "       'DESC_UPS_ANTIGA'],\n",
              "      dtype='object')"
            ]
          },
          "metadata": {},
          "execution_count": 689
        }
      ]
    },
    {
      "cell_type": "code",
      "source": [
        "df_bol_2016 = pd.read_csv('/content/drive/MyDrive/Colab Notebooks/Projeto Grupo 12/Datasets/si-bol-2016.csv', encoding='iso8859-1', sep = \";\", skipinitialspace = True)\n",
        "df_bol_2016.shape"
      ],
      "metadata": {
        "colab": {
          "base_uri": "https://localhost:8080/"
        },
        "id": "kEKAaTK6ECxG",
        "outputId": "ed5ec11e-5ded-47ae-abfe-ff388fd43ea0"
      },
      "execution_count": null,
      "outputs": [
        {
          "output_type": "execute_result",
          "data": {
            "text/plain": [
              "(12477, 23)"
            ]
          },
          "metadata": {},
          "execution_count": 690
        }
      ]
    },
    {
      "cell_type": "code",
      "source": [
        "df_bol_2016.columns"
      ],
      "metadata": {
        "colab": {
          "base_uri": "https://localhost:8080/"
        },
        "id": "s9zliAePJ4FI",
        "outputId": "5b50f072-d433-43d2-f48a-107e1d6ea36d"
      },
      "execution_count": null,
      "outputs": [
        {
          "output_type": "execute_result",
          "data": {
            "text/plain": [
              "Index(['NUMERO_BOLETIM', 'DATA HORA_BOLETIM', 'DATA_INCLUSAO', 'TIPO_ACIDENTE',\n",
              "       'DESC_TIPO_ACIDENTE', 'COD_TEMPO', 'DESC_TEMPO', 'COD_PAVIMENTO',\n",
              "       'PAVIMENTO', 'COD_REGIONAL', 'DESC_REGIONAL', 'ORIGEM_BOLETIM',\n",
              "       'LOCAL_SINALIZADO', 'VELOCIDADE_PERMITIDA', 'COORDENADA_X',\n",
              "       'COORDENADA_Y', 'HORA_INFORMADA', 'INDICADOR_FATALIDADE', 'VALOR_UPS',\n",
              "       'DESCRIÇÃO_UPS', 'DATA_ALTERACAO_SMSA', 'VALOR_UPS_ANTIGA',\n",
              "       'DESCRIÇÃO_UPS_ANTIGA'],\n",
              "      dtype='object')"
            ]
          },
          "metadata": {},
          "execution_count": 691
        }
      ]
    },
    {
      "cell_type": "code",
      "source": [
        "df_bol_2016.rename(columns = {'NUMERO_BOLETIM' : 'NUMERO_BOLETIM',\n",
        "                              'DATA HORA_BOLETIM' : 'DATA_HORA_BOLETIM',\n",
        "                              'DATA_INCLUSAO' : 'DATA_INCLUSAO',\n",
        "                              'TIPO_ACIDENTE' : 'TIPO_ACIDENTE',\n",
        "                              'DESC_TIPO_ACIDENTE' : 'DESC_TIPO_ACIDENTE',\n",
        "                              'COD_TEMPO' : 'COD_TEMPO',\n",
        "                              'DESC_TEMPO' : 'DESC_TEMPO',\n",
        "                              'COD_PAVIMENTO' : 'COD_PAVIMENTO',\n",
        "                              'PAVIMENTO' : 'PAVIMENTO',\n",
        "                              'COD_REGIONAL' : 'COD_REGIONAL',\n",
        "                              'DESC_REGIONAL' : 'DESC_REGIONAL',\n",
        "                              'ORIGEM_BOLETIM' : 'ORIGEM_BOLETIM',\n",
        "                              'LOCAL_SINALIZADO' : 'LOCAL_SINALIZADO',\n",
        "                              'VELOCIDADE_PERMITIDA' : 'VELOCIDADE_PERMITIDA',\n",
        "                              'COORDENADA_X' : 'COORDENADA_X',\n",
        "                              'COORDENADA_Y' : 'COORDENADA_Y',\n",
        "                              'HORA_INFORMADA' : 'HORA_INFORMADA',\n",
        "                              'INDICADOR_FATALIDADE' : 'INDICADOR_FATALIDADE',\n",
        "                              'VALOR_UPS' : 'VALOR_UPS',\n",
        "                              'DESCRIÇÃO_UPS' : 'DESC_UPS',\n",
        "                              'DATA_ALTERACAO_SMSA' : 'DATA_ALTERACAO_SMSA',\n",
        "                              'VALOR_UPS_ANTIGA' : 'VALOR_UPS_ANTIGA',\n",
        "                              'DESCRIÇÃO_UPS_ANTIGA' : 'DESC_UPS_ANTIGA'}, inplace = True)"
      ],
      "metadata": {
        "id": "AnuV6v0TJ38J"
      },
      "execution_count": null,
      "outputs": []
    },
    {
      "cell_type": "code",
      "source": [
        "df_bol_2016.columns"
      ],
      "metadata": {
        "colab": {
          "base_uri": "https://localhost:8080/"
        },
        "id": "24Ilih74J3zH",
        "outputId": "7faf21e3-8efe-4034-9416-3e662670db64"
      },
      "execution_count": null,
      "outputs": [
        {
          "output_type": "execute_result",
          "data": {
            "text/plain": [
              "Index(['NUMERO_BOLETIM', 'DATA_HORA_BOLETIM', 'DATA_INCLUSAO', 'TIPO_ACIDENTE',\n",
              "       'DESC_TIPO_ACIDENTE', 'COD_TEMPO', 'DESC_TEMPO', 'COD_PAVIMENTO',\n",
              "       'PAVIMENTO', 'COD_REGIONAL', 'DESC_REGIONAL', 'ORIGEM_BOLETIM',\n",
              "       'LOCAL_SINALIZADO', 'VELOCIDADE_PERMITIDA', 'COORDENADA_X',\n",
              "       'COORDENADA_Y', 'HORA_INFORMADA', 'INDICADOR_FATALIDADE', 'VALOR_UPS',\n",
              "       'DESC_UPS', 'DATA_ALTERACAO_SMSA', 'VALOR_UPS_ANTIGA',\n",
              "       'DESC_UPS_ANTIGA'],\n",
              "      dtype='object')"
            ]
          },
          "metadata": {},
          "execution_count": 693
        }
      ]
    },
    {
      "cell_type": "code",
      "source": [
        "df_bol_2017 = pd.read_csv('/content/drive/MyDrive/Colab Notebooks/Projeto Grupo 12/Datasets/si-bol-2017.csv', encoding='iso8859-1', sep = \";\", skipinitialspace = True)\n",
        "df_bol_2017.shape"
      ],
      "metadata": {
        "colab": {
          "base_uri": "https://localhost:8080/"
        },
        "id": "DCvywcLCoOva",
        "outputId": "1dacef9e-93fc-4d08-a0bd-c9281e082c6a"
      },
      "execution_count": null,
      "outputs": [
        {
          "output_type": "execute_result",
          "data": {
            "text/plain": [
              "(12243, 23)"
            ]
          },
          "metadata": {},
          "execution_count": 694
        }
      ]
    },
    {
      "cell_type": "code",
      "source": [
        "df_bol_2017.columns"
      ],
      "metadata": {
        "colab": {
          "base_uri": "https://localhost:8080/"
        },
        "id": "x5E5N7GpK-wf",
        "outputId": "c4d0c124-08dd-4d9f-f379-3bcd3d3dc24e"
      },
      "execution_count": null,
      "outputs": [
        {
          "output_type": "execute_result",
          "data": {
            "text/plain": [
              "Index(['NUMERO_BOLETIM', 'DATA HORA_BOLETIM', 'DATA_INCLUSAO', 'TIPO_ACIDENTE',\n",
              "       'DESC_TIPO_ACIDENTE', 'COD_TEMPO', 'DESC_TEMPO', 'COD_PAVIMENTO',\n",
              "       'PAVIMENTO', 'COD_REGIONAL', 'DESC_REGIONAL', 'ORIGEM_BOLETIM',\n",
              "       'LOCAL_SINALIZADO', 'VELOCIDADE_PERMITIDA', 'COORDENADA_X',\n",
              "       'COORDENADA_Y', 'HORA_INFORMADA', 'INDICADOR_FATALIDADE', 'VALOR_UPS',\n",
              "       'DESCRIÇÃO_UPS', 'DATA_ALTERACAO_SMSA', 'VALOR_UPS_ANTIGA',\n",
              "       'DESCRIÇÃO_UPS_ANTIGA'],\n",
              "      dtype='object')"
            ]
          },
          "metadata": {},
          "execution_count": 695
        }
      ]
    },
    {
      "cell_type": "code",
      "source": [
        "df_bol_2017.rename(columns = {'NUMERO_BOLETIM' : 'NUMERO_BOLETIM',\n",
        "                              'DATA HORA_BOLETIM' : 'DATA_HORA_BOLETIM',\n",
        "                              'DATA_INCLUSAO' : 'DATA_INCLUSAO',\n",
        "                              'TIPO_ACIDENTE' : 'TIPO_ACIDENTE',\n",
        "                              'DESC_TIPO_ACIDENTE' : 'DESC_TIPO_ACIDENTE',\n",
        "                              'COD_TEMPO' : 'COD_TEMPO',\n",
        "                              'DESC_TEMPO' : 'DESC_TEMPO',\n",
        "                              'COD_PAVIMENTO' : 'COD_PAVIMENTO',\n",
        "                              'PAVIMENTO' : 'PAVIMENTO',\n",
        "                              'COD_REGIONAL' : 'COD_REGIONAL',\n",
        "                              'DESC_REGIONAL' : 'DESC_REGIONAL',\n",
        "                              'ORIGEM_BOLETIM' : 'ORIGEM_BOLETIM',\n",
        "                              'LOCAL_SINALIZADO' : 'LOCAL_SINALIZADO',\n",
        "                              'VELOCIDADE_PERMITIDA' : 'VELOCIDADE_PERMITIDA',\n",
        "                              'COORDENADA_X' : 'COORDENADA_X',\n",
        "                              'COORDENADA_Y' : 'COORDENADA_Y',\n",
        "                              'HORA_INFORMADA' : 'HORA_INFORMADA',\n",
        "                              'INDICADOR_FATALIDADE' : 'INDICADOR_FATALIDADE',\n",
        "                              'VALOR_UPS' : 'VALOR_UPS',\n",
        "                              'DESCRIÇÃO_UPS' : 'DESC_UPS',\n",
        "                              'DATA_ALTERACAO_SMSA' : 'DATA_ALTERACAO_SMSA',\n",
        "                              'VALOR_UPS_ANTIGA' : 'VALOR_UPS_ANTIGA',\n",
        "                              'DESCRIÇÃO_UPS_ANTIGA' : 'DESC_UPS_ANTIGA'}, inplace = True)"
      ],
      "metadata": {
        "id": "5WTnwkTCK-kf"
      },
      "execution_count": null,
      "outputs": []
    },
    {
      "cell_type": "code",
      "source": [
        "df_bol_2017.columns"
      ],
      "metadata": {
        "colab": {
          "base_uri": "https://localhost:8080/"
        },
        "id": "LQ58IdVeK-X3",
        "outputId": "fd63e89d-87c4-4ae1-8f4d-a18a256108c8"
      },
      "execution_count": null,
      "outputs": [
        {
          "output_type": "execute_result",
          "data": {
            "text/plain": [
              "Index(['NUMERO_BOLETIM', 'DATA_HORA_BOLETIM', 'DATA_INCLUSAO', 'TIPO_ACIDENTE',\n",
              "       'DESC_TIPO_ACIDENTE', 'COD_TEMPO', 'DESC_TEMPO', 'COD_PAVIMENTO',\n",
              "       'PAVIMENTO', 'COD_REGIONAL', 'DESC_REGIONAL', 'ORIGEM_BOLETIM',\n",
              "       'LOCAL_SINALIZADO', 'VELOCIDADE_PERMITIDA', 'COORDENADA_X',\n",
              "       'COORDENADA_Y', 'HORA_INFORMADA', 'INDICADOR_FATALIDADE', 'VALOR_UPS',\n",
              "       'DESC_UPS', 'DATA_ALTERACAO_SMSA', 'VALOR_UPS_ANTIGA',\n",
              "       'DESC_UPS_ANTIGA'],\n",
              "      dtype='object')"
            ]
          },
          "metadata": {},
          "execution_count": 697
        }
      ]
    },
    {
      "cell_type": "code",
      "source": [
        "df_bol_2018 = pd.read_csv('/content/drive/MyDrive/Colab Notebooks/Projeto Grupo 12/Datasets/si-bol-2018.csv', encoding='iso8859-1', sep = \";\", skipinitialspace = True)\n",
        "df_bol_2018.shape"
      ],
      "metadata": {
        "colab": {
          "base_uri": "https://localhost:8080/"
        },
        "id": "rxny7xKPoOnB",
        "outputId": "9506ddb2-ee3c-4233-a17f-828360af88db"
      },
      "execution_count": null,
      "outputs": [
        {
          "output_type": "execute_result",
          "data": {
            "text/plain": [
              "(11656, 23)"
            ]
          },
          "metadata": {},
          "execution_count": 698
        }
      ]
    },
    {
      "cell_type": "code",
      "source": [
        "df_bol_2018.columns"
      ],
      "metadata": {
        "colab": {
          "base_uri": "https://localhost:8080/"
        },
        "id": "ogak9M5nLRZu",
        "outputId": "c2e4bfb8-fdd0-4760-f346-38ae2dfca6ec"
      },
      "execution_count": null,
      "outputs": [
        {
          "output_type": "execute_result",
          "data": {
            "text/plain": [
              "Index(['NUMERO_BOLETIM', 'DATA HORA_BOLETIM', 'DATA_INCLUSAO', 'TIPO_ACIDENTE',\n",
              "       'DESC_TIPO_ACIDENTE', 'COD_TEMPO', 'DESC_TEMPO', 'COD_PAVIMENTO',\n",
              "       'PAVIMENTO', 'COD_REGIONAL', 'DESC_REGIONAL', 'ORIGEM_BOLETIM',\n",
              "       'LOCAL_SINALIZADO', 'VELOCIDADE_PERMITIDA', 'COORDENADA_X',\n",
              "       'COORDENADA_Y', 'HORA_INFORMADA', 'INDICADOR_FATALIDADE', 'VALOR_UPS',\n",
              "       'DESCRIÇÃO_UPS', 'DATA_ALTERACAO_SMSA', 'VALOR_UPS_ANTIGA',\n",
              "       'DESCRIÇÃO_UPS_ANTIGA'],\n",
              "      dtype='object')"
            ]
          },
          "metadata": {},
          "execution_count": 699
        }
      ]
    },
    {
      "cell_type": "code",
      "source": [
        "df_bol_2018.rename(columns = {'NUMERO_BOLETIM' : 'NUMERO_BOLETIM',\n",
        "                              'DATA HORA_BOLETIM' : 'DATA_HORA_BOLETIM',\n",
        "                              'DATA_INCLUSAO' : 'DATA_INCLUSAO',\n",
        "                              'TIPO_ACIDENTE' : 'TIPO_ACIDENTE',\n",
        "                              'DESC_TIPO_ACIDENTE' : 'DESC_TIPO_ACIDENTE',\n",
        "                              'COD_TEMPO' : 'COD_TEMPO',\n",
        "                              'DESC_TEMPO' : 'DESC_TEMPO',\n",
        "                              'COD_PAVIMENTO' : 'COD_PAVIMENTO',\n",
        "                              'PAVIMENTO' : 'PAVIMENTO',\n",
        "                              'COD_REGIONAL' : 'COD_REGIONAL',\n",
        "                              'DESC_REGIONAL' : 'DESC_REGIONAL',\n",
        "                              'ORIGEM_BOLETIM' : 'ORIGEM_BOLETIM',\n",
        "                              'LOCAL_SINALIZADO' : 'LOCAL_SINALIZADO',\n",
        "                              'VELOCIDADE_PERMITIDA' : 'VELOCIDADE_PERMITIDA',\n",
        "                              'COORDENADA_X' : 'COORDENADA_X',\n",
        "                              'COORDENADA_Y' : 'COORDENADA_Y',\n",
        "                              'HORA_INFORMADA' : 'HORA_INFORMADA',\n",
        "                              'INDICADOR_FATALIDADE' : 'INDICADOR_FATALIDADE',\n",
        "                              'VALOR_UPS' : 'VALOR_UPS',\n",
        "                              'DESCRIÇÃO_UPS' : 'DESC_UPS',\n",
        "                              'DATA_ALTERACAO_SMSA' : 'DATA_ALTERACAO_SMSA',\n",
        "                              'VALOR_UPS_ANTIGA' : 'VALOR_UPS_ANTIGA',\n",
        "                              'DESCRIÇÃO_UPS_ANTIGA' : 'DESC_UPS_ANTIGA'}, inplace = True)"
      ],
      "metadata": {
        "id": "G_b67pYeLRQ-"
      },
      "execution_count": null,
      "outputs": []
    },
    {
      "cell_type": "code",
      "source": [
        "df_bol_2018.columns"
      ],
      "metadata": {
        "colab": {
          "base_uri": "https://localhost:8080/"
        },
        "id": "wy4iJB4_LRHe",
        "outputId": "9cf3a9af-1212-4b93-b17f-9e5c8d59de8f"
      },
      "execution_count": null,
      "outputs": [
        {
          "output_type": "execute_result",
          "data": {
            "text/plain": [
              "Index(['NUMERO_BOLETIM', 'DATA_HORA_BOLETIM', 'DATA_INCLUSAO', 'TIPO_ACIDENTE',\n",
              "       'DESC_TIPO_ACIDENTE', 'COD_TEMPO', 'DESC_TEMPO', 'COD_PAVIMENTO',\n",
              "       'PAVIMENTO', 'COD_REGIONAL', 'DESC_REGIONAL', 'ORIGEM_BOLETIM',\n",
              "       'LOCAL_SINALIZADO', 'VELOCIDADE_PERMITIDA', 'COORDENADA_X',\n",
              "       'COORDENADA_Y', 'HORA_INFORMADA', 'INDICADOR_FATALIDADE', 'VALOR_UPS',\n",
              "       'DESC_UPS', 'DATA_ALTERACAO_SMSA', 'VALOR_UPS_ANTIGA',\n",
              "       'DESC_UPS_ANTIGA'],\n",
              "      dtype='object')"
            ]
          },
          "metadata": {},
          "execution_count": 701
        }
      ]
    },
    {
      "cell_type": "code",
      "source": [
        "df_bol_2019 = pd.read_csv('/content/drive/MyDrive/Colab Notebooks/Projeto Grupo 12/Datasets/si-bol-2019.csv', encoding='iso8859-1', sep = \";\", skipinitialspace = True)\n",
        "df_bol_2019.shape"
      ],
      "metadata": {
        "colab": {
          "base_uri": "https://localhost:8080/"
        },
        "id": "PboyteTUoNoS",
        "outputId": "2999c260-4eb7-4c42-daa3-4f9fc918987d"
      },
      "execution_count": null,
      "outputs": [
        {
          "output_type": "execute_result",
          "data": {
            "text/plain": [
              "(13342, 23)"
            ]
          },
          "metadata": {},
          "execution_count": 702
        }
      ]
    },
    {
      "cell_type": "code",
      "source": [
        "df_bol_2019.columns"
      ],
      "metadata": {
        "colab": {
          "base_uri": "https://localhost:8080/"
        },
        "id": "uEWAzb2ALeAq",
        "outputId": "9ca2ab35-eb31-44ca-eb06-bd9c15a573e4"
      },
      "execution_count": null,
      "outputs": [
        {
          "output_type": "execute_result",
          "data": {
            "text/plain": [
              "Index(['NUMERO_BOLETIM', 'DATA HORA_BOLETIM', 'DATA_INCLUSAO', 'TIPO_ACIDENTE',\n",
              "       'DESC_TIPO_ACIDENTE', 'COD_TEMPO', 'DESC_TEMPO', 'COD_PAVIMENTO',\n",
              "       'PAVIMENTO', 'COD_REGIONAL', 'DESC_REGIONAL', 'ORIGEM_BOLETIM',\n",
              "       'LOCAL_SINALIZADO', 'VELOCIDADE_PERMITIDA', 'COORDENADA_X',\n",
              "       'COORDENADA_Y', 'HORA_INFORMADA', 'INDICADOR_FATALIDADE', 'VALOR_UPS',\n",
              "       'DESCRIÇÃO_UPS', 'DATA_ALTERACAO_SMSA', 'VALOR_UPS_ANTIGA',\n",
              "       'DESCRIÇÃO_UPS_ANTIGA'],\n",
              "      dtype='object')"
            ]
          },
          "metadata": {},
          "execution_count": 703
        }
      ]
    },
    {
      "cell_type": "code",
      "source": [
        "df_bol_2019.rename(columns = {'NUMERO_BOLETIM' : 'NUMERO_BOLETIM',\n",
        "                              'DATA HORA_BOLETIM' : 'DATA_HORA_BOLETIM',\n",
        "                              'DATA_INCLUSAO' : 'DATA_INCLUSAO',\n",
        "                              'TIPO_ACIDENTE' : 'TIPO_ACIDENTE',\n",
        "                              'DESC_TIPO_ACIDENTE' : 'DESC_TIPO_ACIDENTE',\n",
        "                              'COD_TEMPO' : 'COD_TEMPO',\n",
        "                              'DESC_TEMPO' : 'DESC_TEMPO',\n",
        "                              'COD_PAVIMENTO' : 'COD_PAVIMENTO',\n",
        "                              'PAVIMENTO' : 'PAVIMENTO',\n",
        "                              'COD_REGIONAL' : 'COD_REGIONAL',\n",
        "                              'DESC_REGIONAL' : 'DESC_REGIONAL',\n",
        "                              'ORIGEM_BOLETIM' : 'ORIGEM_BOLETIM',\n",
        "                              'LOCAL_SINALIZADO' : 'LOCAL_SINALIZADO',\n",
        "                              'VELOCIDADE_PERMITIDA' : 'VELOCIDADE_PERMITIDA',\n",
        "                              'COORDENADA_X' : 'COORDENADA_X',\n",
        "                              'COORDENADA_Y' : 'COORDENADA_Y',\n",
        "                              'HORA_INFORMADA' : 'HORA_INFORMADA',\n",
        "                              'INDICADOR_FATALIDADE' : 'INDICADOR_FATALIDADE',\n",
        "                              'VALOR_UPS' : 'VALOR_UPS',\n",
        "                              'DESCRIÇÃO_UPS' : 'DESC_UPS',\n",
        "                              'DATA_ALTERACAO_SMSA' : 'DATA_ALTERACAO_SMSA',\n",
        "                              'VALOR_UPS_ANTIGA' : 'VALOR_UPS_ANTIGA',\n",
        "                              'DESCRIÇÃO_UPS_ANTIGA' : 'DESC_UPS_ANTIGA'}, inplace = True)"
      ],
      "metadata": {
        "id": "7w7dfZLULd3n"
      },
      "execution_count": null,
      "outputs": []
    },
    {
      "cell_type": "code",
      "source": [
        "df_bol_2019.columns"
      ],
      "metadata": {
        "colab": {
          "base_uri": "https://localhost:8080/"
        },
        "id": "k1k2SppJLdtn",
        "outputId": "aaf6e0db-a74e-43df-f936-091694d2c850"
      },
      "execution_count": null,
      "outputs": [
        {
          "output_type": "execute_result",
          "data": {
            "text/plain": [
              "Index(['NUMERO_BOLETIM', 'DATA_HORA_BOLETIM', 'DATA_INCLUSAO', 'TIPO_ACIDENTE',\n",
              "       'DESC_TIPO_ACIDENTE', 'COD_TEMPO', 'DESC_TEMPO', 'COD_PAVIMENTO',\n",
              "       'PAVIMENTO', 'COD_REGIONAL', 'DESC_REGIONAL', 'ORIGEM_BOLETIM',\n",
              "       'LOCAL_SINALIZADO', 'VELOCIDADE_PERMITIDA', 'COORDENADA_X',\n",
              "       'COORDENADA_Y', 'HORA_INFORMADA', 'INDICADOR_FATALIDADE', 'VALOR_UPS',\n",
              "       'DESC_UPS', 'DATA_ALTERACAO_SMSA', 'VALOR_UPS_ANTIGA',\n",
              "       'DESC_UPS_ANTIGA'],\n",
              "      dtype='object')"
            ]
          },
          "metadata": {},
          "execution_count": 705
        }
      ]
    },
    {
      "cell_type": "code",
      "execution_count": null,
      "metadata": {
        "colab": {
          "base_uri": "https://localhost:8080/"
        },
        "id": "gaZN03jzmzpO",
        "outputId": "746d38d0-d039-480f-ff91-c0173b27fefe"
      },
      "outputs": [
        {
          "output_type": "execute_result",
          "data": {
            "text/plain": [
              "(10624, 23)"
            ]
          },
          "metadata": {},
          "execution_count": 706
        }
      ],
      "source": [
        "df_bol_2020 = pd.read_csv('/content/drive/MyDrive/Colab Notebooks/Projeto Grupo 12/Datasets/si-bol-2020.csv', encoding='iso8859-1', sep = \";\", skipinitialspace = True)\n",
        "df_bol_2020.shape"
      ]
    },
    {
      "cell_type": "code",
      "source": [
        "df_bol_2020.columns"
      ],
      "metadata": {
        "colab": {
          "base_uri": "https://localhost:8080/"
        },
        "id": "UbGysDJGLoKH",
        "outputId": "72be1096-bafb-4adf-a7ac-7081022ced1c"
      },
      "execution_count": null,
      "outputs": [
        {
          "output_type": "execute_result",
          "data": {
            "text/plain": [
              "Index(['NUMERO_BOLETIM', 'DATA HORA_BOLETIM', 'DATA_INCLUSAO', 'TIPO_ACIDENTE',\n",
              "       'DESC_TIPO_ACIDENTE', 'COD_TEMPO', 'DESC_TEMPO', 'COD_PAVIMENTO',\n",
              "       'PAVIMENTO', 'COD_REGIONAL', 'DESC_REGIONAL', 'ORIGEM_BOLETIM',\n",
              "       'LOCAL_SINALIZADO', 'VELOCIDADE_PERMITIDA', 'COORDENADA_X',\n",
              "       'COORDENADA_Y', 'HORA_INFORMADA', 'INDICADOR_FATALIDADE', 'VALOR_UPS',\n",
              "       'DESCRIÇÃO_UPS', 'DATA_ALTERACAO_SMSA', 'VALOR_UPS_ANTIGA',\n",
              "       'DESCRIÇÃO_UPS_ANTIGA'],\n",
              "      dtype='object')"
            ]
          },
          "metadata": {},
          "execution_count": 707
        }
      ]
    },
    {
      "cell_type": "code",
      "source": [
        "df_bol_2020.rename(columns = {'NUMERO_BOLETIM' : 'NUMERO_BOLETIM',\n",
        "                              'DATA HORA_BOLETIM' : 'DATA_HORA_BOLETIM',\n",
        "                              'DATA_INCLUSAO' : 'DATA_INCLUSAO',\n",
        "                              'TIPO_ACIDENTE' : 'TIPO_ACIDENTE',\n",
        "                              'DESC_TIPO_ACIDENTE' : 'DESC_TIPO_ACIDENTE',\n",
        "                              'COD_TEMPO' : 'COD_TEMPO',\n",
        "                              'DESC_TEMPO' : 'DESC_TEMPO',\n",
        "                              'COD_PAVIMENTO' : 'COD_PAVIMENTO',\n",
        "                              'PAVIMENTO' : 'PAVIMENTO',\n",
        "                              'COD_REGIONAL' : 'COD_REGIONAL',\n",
        "                              'DESC_REGIONAL' : 'DESC_REGIONAL',\n",
        "                              'ORIGEM_BOLETIM' : 'ORIGEM_BOLETIM',\n",
        "                              'LOCAL_SINALIZADO' : 'LOCAL_SINALIZADO',\n",
        "                              'VELOCIDADE_PERMITIDA' : 'VELOCIDADE_PERMITIDA',\n",
        "                              'COORDENADA_X' : 'COORDENADA_X',\n",
        "                              'COORDENADA_Y' : 'COORDENADA_Y',\n",
        "                              'HORA_INFORMADA' : 'HORA_INFORMADA',\n",
        "                              'INDICADOR_FATALIDADE' : 'INDICADOR_FATALIDADE',\n",
        "                              'VALOR_UPS' : 'VALOR_UPS',\n",
        "                              'DESCRIÇÃO_UPS' : 'DESC_UPS',\n",
        "                              'DATA_ALTERACAO_SMSA' : 'DATA_ALTERACAO_SMSA',\n",
        "                              'VALOR_UPS_ANTIGA' : 'VALOR_UPS_ANTIGA',\n",
        "                              'DESCRIÇÃO_UPS_ANTIGA' : 'DESC_UPS_ANTIGA'}, inplace = True)"
      ],
      "metadata": {
        "id": "YPOp5jhJLoAG"
      },
      "execution_count": null,
      "outputs": []
    },
    {
      "cell_type": "code",
      "source": [
        "df_bol_2020.columns"
      ],
      "metadata": {
        "colab": {
          "base_uri": "https://localhost:8080/"
        },
        "id": "0QPc1M2fLn1v",
        "outputId": "72cc1e42-7e5e-497e-9735-94a9c527fe8d"
      },
      "execution_count": null,
      "outputs": [
        {
          "output_type": "execute_result",
          "data": {
            "text/plain": [
              "Index(['NUMERO_BOLETIM', 'DATA_HORA_BOLETIM', 'DATA_INCLUSAO', 'TIPO_ACIDENTE',\n",
              "       'DESC_TIPO_ACIDENTE', 'COD_TEMPO', 'DESC_TEMPO', 'COD_PAVIMENTO',\n",
              "       'PAVIMENTO', 'COD_REGIONAL', 'DESC_REGIONAL', 'ORIGEM_BOLETIM',\n",
              "       'LOCAL_SINALIZADO', 'VELOCIDADE_PERMITIDA', 'COORDENADA_X',\n",
              "       'COORDENADA_Y', 'HORA_INFORMADA', 'INDICADOR_FATALIDADE', 'VALOR_UPS',\n",
              "       'DESC_UPS', 'DATA_ALTERACAO_SMSA', 'VALOR_UPS_ANTIGA',\n",
              "       'DESC_UPS_ANTIGA'],\n",
              "      dtype='object')"
            ]
          },
          "metadata": {},
          "execution_count": 709
        }
      ]
    },
    {
      "cell_type": "code",
      "source": [
        "df_bol_2021 = pd.read_csv('/content/drive/MyDrive/Colab Notebooks/Projeto Grupo 12/Datasets/si-bol-2021.csv', encoding='iso8859-1', sep = \";\", skipinitialspace = True)\n",
        "df_bol_2021.shape"
      ],
      "metadata": {
        "colab": {
          "base_uri": "https://localhost:8080/"
        },
        "id": "pMT6OZULnUKg",
        "outputId": "dafa4dfe-1317-4e6f-c588-5dead2fda9f2"
      },
      "execution_count": null,
      "outputs": [
        {
          "output_type": "execute_result",
          "data": {
            "text/plain": [
              "(11122, 23)"
            ]
          },
          "metadata": {},
          "execution_count": 710
        }
      ]
    },
    {
      "cell_type": "code",
      "source": [
        "df_bol_2021.columns"
      ],
      "metadata": {
        "colab": {
          "base_uri": "https://localhost:8080/"
        },
        "id": "aGgYWyAtF6AX",
        "outputId": "d32b92de-7e92-4c4a-938d-e78e7ff7f0bf"
      },
      "execution_count": null,
      "outputs": [
        {
          "output_type": "execute_result",
          "data": {
            "text/plain": [
              "Index(['NUMERO_BOLETIM', 'DATA HORA_BOLETIM', 'DATA_INCLUSAO', 'TIPO_ACIDENTE',\n",
              "       'DESC_TIPO_ACIDENTE', 'COD_TEMPO', 'DESC_TEMPO', 'COD_PAVIMENTO',\n",
              "       'PAVIMENTO', 'COD_REGIONAL', 'DESC_REGIONAL', 'ORIGEM_BOLETIM',\n",
              "       'LOCAL_SINALIZADO', 'VELOCIDADE_PERMITIDA', 'COORDENADA_X',\n",
              "       'COORDENADA_Y', 'HORA_INFORMADA', 'INDICADOR_FATALIDADE', 'VALOR_UPS',\n",
              "       'DESCRIÇÃO_UPS', 'DATA_ALTERACAO_SMSA', 'VALOR_UPS_ANTIGA',\n",
              "       'DESCRIÇÃO_UPS_ANTIGA'],\n",
              "      dtype='object')"
            ]
          },
          "metadata": {},
          "execution_count": 711
        }
      ]
    },
    {
      "cell_type": "code",
      "source": [
        "df_bol_2021.rename(columns = {'NUMERO_BOLETIM' : 'NUMERO_BOLETIM',\n",
        "                              'DATA HORA_BOLETIM' : 'DATA_HORA_BOLETIM',\n",
        "                              'DATA_INCLUSAO' : 'DATA_INCLUSAO',\n",
        "                              'TIPO_ACIDENTE' : 'TIPO_ACIDENTE',\n",
        "                              'DESC_TIPO_ACIDENTE' : 'DESC_TIPO_ACIDENTE',\n",
        "                              'COD_TEMPO' : 'COD_TEMPO',\n",
        "                              'DESC_TEMPO' : 'DESC_TEMPO',\n",
        "                              'COD_PAVIMENTO' : 'COD_PAVIMENTO',\n",
        "                              'PAVIMENTO' : 'PAVIMENTO',\n",
        "                              'COD_REGIONAL' : 'COD_REGIONAL',\n",
        "                              'DESC_REGIONAL' : 'DESC_REGIONAL',\n",
        "                              'ORIGEM_BOLETIM' : 'ORIGEM_BOLETIM',\n",
        "                              'LOCAL_SINALIZADO' : 'LOCAL_SINALIZADO',\n",
        "                              'VELOCIDADE_PERMITIDA' : 'VELOCIDADE_PERMITIDA',\n",
        "                              'COORDENADA_X' : 'COORDENADA_X',\n",
        "                              'COORDENADA_Y' : 'COORDENADA_Y',\n",
        "                              'HORA_INFORMADA' : 'HORA_INFORMADA',\n",
        "                              'INDICADOR_FATALIDADE' : 'INDICADOR_FATALIDADE',\n",
        "                              'VALOR_UPS' : 'VALOR_UPS',\n",
        "                              'DESCRIÇÃO_UPS' : 'DESC_UPS',\n",
        "                              'DATA_ALTERACAO_SMSA' : 'DATA_ALTERACAO_SMSA',\n",
        "                              'VALOR_UPS_ANTIGA' : 'VALOR_UPS_ANTIGA',\n",
        "                              'DESCRIÇÃO_UPS_ANTIGA' : 'DESC_UPS_ANTIGA'}, inplace = True)"
      ],
      "metadata": {
        "id": "TqXMUbi_L0c9"
      },
      "execution_count": null,
      "outputs": []
    },
    {
      "cell_type": "code",
      "source": [
        "df_bol_2021.columns"
      ],
      "metadata": {
        "colab": {
          "base_uri": "https://localhost:8080/"
        },
        "id": "BBSJYeFJL0TN",
        "outputId": "5e96721b-cec8-4546-ce03-1817cf632c42"
      },
      "execution_count": null,
      "outputs": [
        {
          "output_type": "execute_result",
          "data": {
            "text/plain": [
              "Index(['NUMERO_BOLETIM', 'DATA_HORA_BOLETIM', 'DATA_INCLUSAO', 'TIPO_ACIDENTE',\n",
              "       'DESC_TIPO_ACIDENTE', 'COD_TEMPO', 'DESC_TEMPO', 'COD_PAVIMENTO',\n",
              "       'PAVIMENTO', 'COD_REGIONAL', 'DESC_REGIONAL', 'ORIGEM_BOLETIM',\n",
              "       'LOCAL_SINALIZADO', 'VELOCIDADE_PERMITIDA', 'COORDENADA_X',\n",
              "       'COORDENADA_Y', 'HORA_INFORMADA', 'INDICADOR_FATALIDADE', 'VALOR_UPS',\n",
              "       'DESC_UPS', 'DATA_ALTERACAO_SMSA', 'VALOR_UPS_ANTIGA',\n",
              "       'DESC_UPS_ANTIGA'],\n",
              "      dtype='object')"
            ]
          },
          "metadata": {},
          "execution_count": 713
        }
      ]
    },
    {
      "cell_type": "code",
      "source": [
        "frames_bol = [df_bol_2011, df_bol_2012, df_bol_2013, df_bol_2014, df_bol_2015, df_bol_2016, df_bol_2017, df_bol_2018, df_bol_2019, df_bol_2020, df_bol_2021]"
      ],
      "metadata": {
        "id": "GdSBPQLpnqJa"
      },
      "execution_count": null,
      "outputs": []
    },
    {
      "cell_type": "code",
      "source": [
        "df_bol = pd.concat(frames_bol)\n",
        "df_bol.shape"
      ],
      "metadata": {
        "colab": {
          "base_uri": "https://localhost:8080/"
        },
        "id": "e2AJr3kan0Kz",
        "outputId": "cc5423d4-f0ff-43c1-c622-a6d1ea52b98b"
      },
      "execution_count": null,
      "outputs": [
        {
          "output_type": "execute_result",
          "data": {
            "text/plain": [
              "(145428, 23)"
            ]
          },
          "metadata": {},
          "execution_count": 715
        }
      ]
    },
    {
      "cell_type": "code",
      "source": [
        "df_bol.columns"
      ],
      "metadata": {
        "colab": {
          "base_uri": "https://localhost:8080/"
        },
        "id": "BP6yZGpbFvTc",
        "outputId": "fcf70036-4640-409d-a411-01082cd96611"
      },
      "execution_count": null,
      "outputs": [
        {
          "output_type": "execute_result",
          "data": {
            "text/plain": [
              "Index(['NUMERO_BOLETIM', 'DATA_HORA_BOLETIM', 'DATA_INCLUSAO', 'TIPO_ACIDENTE',\n",
              "       'DESC_TIPO_ACIDENTE', 'COD_TEMPO', 'DESC_TEMPO', 'COD_PAVIMENTO',\n",
              "       'PAVIMENTO', 'COD_REGIONAL', 'DESC_REGIONAL', 'ORIGEM_BOLETIM',\n",
              "       'LOCAL_SINALIZADO', 'VELOCIDADE_PERMITIDA', 'COORDENADA_X',\n",
              "       'COORDENADA_Y', 'HORA_INFORMADA', 'INDICADOR_FATALIDADE', 'VALOR_UPS',\n",
              "       'DESC_UPS', 'DATA_ALTERACAO_SMSA', 'VALOR_UPS_ANTIGA',\n",
              "       'DESC_UPS_ANTIGA'],\n",
              "      dtype='object')"
            ]
          },
          "metadata": {},
          "execution_count": 716
        }
      ]
    },
    {
      "cell_type": "markdown",
      "source": [
        "## Tratando arquivos \"log\""
      ],
      "metadata": {
        "id": "hnRTCcxUMuOV"
      }
    },
    {
      "cell_type": "code",
      "source": [
        "df_log_2011 = pd.read_csv('/content/drive/MyDrive/Colab Notebooks/Projeto Grupo 12/Datasets/si-log-2011.csv', encoding='iso8859-1', sep = \";\", skipinitialspace = True)\n",
        "df_log_2011.shape"
      ],
      "metadata": {
        "colab": {
          "base_uri": "https://localhost:8080/"
        },
        "id": "Jn2_J61LEfMJ",
        "outputId": "e428de6f-9237-4a34-8aca-2f141e4f7183"
      },
      "execution_count": null,
      "outputs": [
        {
          "output_type": "execute_result",
          "data": {
            "text/plain": [
              "(20540, 16)"
            ]
          },
          "metadata": {},
          "execution_count": 717
        }
      ]
    },
    {
      "cell_type": "code",
      "source": [
        "df_log_2011.columns"
      ],
      "metadata": {
        "colab": {
          "base_uri": "https://localhost:8080/"
        },
        "id": "3I54zSzqM0DE",
        "outputId": "bde5ae7d-612a-4268-cfa2-118f5a877d23"
      },
      "execution_count": null,
      "outputs": [
        {
          "output_type": "execute_result",
          "data": {
            "text/plain": [
              "Index(['numero_boletim', 'data_boletim', 'numero_municipio', 'nome_municipio',\n",
              "       'sequencia_logradouros', 'numero_logradouro', 'tipo_logradouro',\n",
              "       'nome_logradouro', 'tipo_logradouro_anterior',\n",
              "       'nome_logradoro_anterior', 'Numero_bairro', 'nome_bairro',\n",
              "       'tipo_bairro', 'descricao_tipo_bairro', 'numero_imovel',\n",
              "       'numero_imovel_proximo'],\n",
              "      dtype='object')"
            ]
          },
          "metadata": {},
          "execution_count": 718
        }
      ]
    },
    {
      "cell_type": "code",
      "source": [
        "df_log_2011.rename(columns = {'numero_boletim' : 'NUMERO_BOLETIM',\n",
        "                              'data_boletim' : 'DATA_BOLETIM',\n",
        "                              'numero_municipio' : 'NUMERO_MUNICIPIO',\n",
        "                              'nome_municipio' : 'NOME_MUNICIPIO',\n",
        "                              'sequencia_logradouros' : 'SEQUENCIA_LOGRADOUROS',\n",
        "                              'numero_logradouro' : 'NUMERO_LOGRADOURO',\n",
        "                              'tipo_logradouro' : 'TIPO_LOGRADOURO',\n",
        "                              'nome_logradouro' : 'NOME_LOGRADOURO',\n",
        "                              'tipo_logradouro_anterior' : 'TIPO_LOGRADOURO_ANTERIOR',\n",
        "                              'nome_logradoro_anterior' : 'NOME_LOGRADOURO_ANTERIOR',\n",
        "                              'Numero_bairro' : 'NUMERO_BAIRRO',\n",
        "                              'nome_bairro' : 'NOME_BAIRRO',\n",
        "                              'tipo_bairro' : 'TIPO_BAIRRO',\n",
        "                              'descricao_tipo_bairro' : 'DESCRICAO_TIPO_BAIRRO',\n",
        "                              'numero_imovel' : 'NUMERO_IMOVEL',\n",
        "                              'numero_imovel_proximo' : 'NUMERO_IMOVEL_PROXIMO'}, inplace = True)"
      ],
      "metadata": {
        "id": "TvGLo8e2Mz5I"
      },
      "execution_count": null,
      "outputs": []
    },
    {
      "cell_type": "code",
      "source": [
        "df_log_2011.columns"
      ],
      "metadata": {
        "colab": {
          "base_uri": "https://localhost:8080/"
        },
        "id": "yqjnsoIEMzuN",
        "outputId": "075ff43a-9622-4d51-afae-28c85a9c54ca"
      },
      "execution_count": null,
      "outputs": [
        {
          "output_type": "execute_result",
          "data": {
            "text/plain": [
              "Index(['NUMERO_BOLETIM', 'DATA_BOLETIM', 'NUMERO_MUNICIPIO', 'NOME_MUNICIPIO',\n",
              "       'SEQUENCIA_LOGRADOUROS', 'NUMERO_LOGRADOURO', 'TIPO_LOGRADOURO',\n",
              "       'NOME_LOGRADOURO', 'TIPO_LOGRADOURO_ANTERIOR',\n",
              "       'NOME_LOGRADOURO_ANTERIOR', 'NUMERO_BAIRRO', 'NOME_BAIRRO',\n",
              "       'TIPO_BAIRRO', 'DESCRICAO_TIPO_BAIRRO', 'NUMERO_IMOVEL',\n",
              "       'NUMERO_IMOVEL_PROXIMO'],\n",
              "      dtype='object')"
            ]
          },
          "metadata": {},
          "execution_count": 720
        }
      ]
    },
    {
      "cell_type": "code",
      "source": [
        "df_log_2012 = pd.read_csv('/content/drive/MyDrive/Colab Notebooks/Projeto Grupo 12/Datasets/si-log-2012.csv', encoding='iso8859-1', sep = \";\", skipinitialspace = True)\n",
        "df_log_2012.shape"
      ],
      "metadata": {
        "colab": {
          "base_uri": "https://localhost:8080/"
        },
        "id": "axFHgCMwEfCy",
        "outputId": "97b81593-d90b-4f9f-ba5c-300a3ab12215"
      },
      "execution_count": null,
      "outputs": [
        {
          "output_type": "execute_result",
          "data": {
            "text/plain": [
              "(19909, 16)"
            ]
          },
          "metadata": {},
          "execution_count": 721
        }
      ]
    },
    {
      "cell_type": "code",
      "source": [
        "df_log_2012.columns"
      ],
      "metadata": {
        "colab": {
          "base_uri": "https://localhost:8080/"
        },
        "id": "oS9la9SDOirq",
        "outputId": "314205ff-1f5e-4ed9-87ed-6c3877bc0fb2"
      },
      "execution_count": null,
      "outputs": [
        {
          "output_type": "execute_result",
          "data": {
            "text/plain": [
              "Index(['numero_boletim', 'data_boletim', 'numero_municipio', 'nome_municipio',\n",
              "       'sequencia_logradouros', 'numero_logradouro', 'tipo_logradouro',\n",
              "       'nome_logradouro', 'tipo_logradouro_anterior',\n",
              "       'nome_logradoro_anterior', 'Numero_bairro', 'nome_bairro',\n",
              "       'tipo_bairro', 'descricao_tipo_bairro', 'numero_imovel',\n",
              "       'numero_imovel_proximo'],\n",
              "      dtype='object')"
            ]
          },
          "metadata": {},
          "execution_count": 722
        }
      ]
    },
    {
      "cell_type": "code",
      "source": [
        "df_log_2012.rename(columns = {'numero_boletim' : 'NUMERO_BOLETIM',\n",
        "                              'data_boletim' : 'DATA_BOLETIM',\n",
        "                              'numero_municipio' : 'NUMERO_MUNICIPIO',\n",
        "                              'nome_municipio' : 'NOME_MUNICIPIO',\n",
        "                              'sequencia_logradouros' : 'SEQUENCIA_LOGRADOUROS',\n",
        "                              'numero_logradouro' : 'NUMERO_LOGRADOURO',\n",
        "                              'tipo_logradouro' : 'TIPO_LOGRADOURO',\n",
        "                              'nome_logradouro' : 'NOME_LOGRADOURO',\n",
        "                              'tipo_logradouro_anterior' : 'TIPO_LOGRADOURO_ANTERIOR',\n",
        "                              'nome_logradoro_anterior' : 'NOME_LOGRADOURO_ANTERIOR',\n",
        "                              'Numero_bairro' : 'NUMERO_BAIRRO',\n",
        "                              'nome_bairro' : 'NOME_BAIRRO',\n",
        "                              'tipo_bairro' : 'TIPO_BAIRRO',\n",
        "                              'descricao_tipo_bairro' : 'DESCRICAO_TIPO_BAIRRO',\n",
        "                              'numero_imovel' : 'NUMERO_IMOVEL',\n",
        "                              'numero_imovel_proximo' : 'NUMERO_IMOVEL_PROXIMO'}, inplace = True)"
      ],
      "metadata": {
        "id": "IkT8F5FdOiij"
      },
      "execution_count": null,
      "outputs": []
    },
    {
      "cell_type": "code",
      "source": [
        "df_log_2012.columns"
      ],
      "metadata": {
        "colab": {
          "base_uri": "https://localhost:8080/"
        },
        "id": "NA2ELqq5OiYh",
        "outputId": "12bac414-79af-40dd-871a-67b13deba58a"
      },
      "execution_count": null,
      "outputs": [
        {
          "output_type": "execute_result",
          "data": {
            "text/plain": [
              "Index(['NUMERO_BOLETIM', 'DATA_BOLETIM', 'NUMERO_MUNICIPIO', 'NOME_MUNICIPIO',\n",
              "       'SEQUENCIA_LOGRADOUROS', 'NUMERO_LOGRADOURO', 'TIPO_LOGRADOURO',\n",
              "       'NOME_LOGRADOURO', 'TIPO_LOGRADOURO_ANTERIOR',\n",
              "       'NOME_LOGRADOURO_ANTERIOR', 'NUMERO_BAIRRO', 'NOME_BAIRRO',\n",
              "       'TIPO_BAIRRO', 'DESCRICAO_TIPO_BAIRRO', 'NUMERO_IMOVEL',\n",
              "       'NUMERO_IMOVEL_PROXIMO'],\n",
              "      dtype='object')"
            ]
          },
          "metadata": {},
          "execution_count": 724
        }
      ]
    },
    {
      "cell_type": "code",
      "source": [
        "df_log_2013 = pd.read_csv('/content/drive/MyDrive/Colab Notebooks/Projeto Grupo 12/Datasets/si-log-2013.csv', encoding='iso8859-1', sep = \";\", skipinitialspace = True)\n",
        "df_log_2013.shape"
      ],
      "metadata": {
        "colab": {
          "base_uri": "https://localhost:8080/"
        },
        "id": "VJtLbkUSEe6M",
        "outputId": "39d1784d-d1e4-4854-a511-946264b16bcb"
      },
      "execution_count": null,
      "outputs": [
        {
          "output_type": "execute_result",
          "data": {
            "text/plain": [
              "(19446, 16)"
            ]
          },
          "metadata": {},
          "execution_count": 725
        }
      ]
    },
    {
      "cell_type": "code",
      "source": [
        "df_log_2013.columns"
      ],
      "metadata": {
        "colab": {
          "base_uri": "https://localhost:8080/"
        },
        "id": "ypANoe0AOzhT",
        "outputId": "ffbce175-ffe2-4916-a1e2-33cd9d046910"
      },
      "execution_count": null,
      "outputs": [
        {
          "output_type": "execute_result",
          "data": {
            "text/plain": [
              "Index(['numero_boletim', 'data_boletim', 'numero_municipio', 'nome_municipio',\n",
              "       'sequencia_logradouros', 'numero_logradouro', 'tipo_logradouro',\n",
              "       'nome_logradouro', 'tipo_logradouro_anterior',\n",
              "       'nome_logradoro_anterior', 'Numero_bairro', 'nome_bairro',\n",
              "       'tipo_bairro', 'descricao_tipo_bairro', 'numero_imovel',\n",
              "       'numero_imovel_proximo'],\n",
              "      dtype='object')"
            ]
          },
          "metadata": {},
          "execution_count": 726
        }
      ]
    },
    {
      "cell_type": "code",
      "source": [
        "df_log_2013.rename(columns = {'numero_boletim' : 'NUMERO_BOLETIM',\n",
        "                              'data_boletim' : 'DATA_BOLETIM',\n",
        "                              'numero_municipio' : 'NUMERO_MUNICIPIO',\n",
        "                              'nome_municipio' : 'NOME_MUNICIPIO',\n",
        "                              'sequencia_logradouros' : 'SEQUENCIA_LOGRADOUROS',\n",
        "                              'numero_logradouro' : 'NUMERO_LOGRADOURO',\n",
        "                              'tipo_logradouro' : 'TIPO_LOGRADOURO',\n",
        "                              'nome_logradouro' : 'NOME_LOGRADOURO',\n",
        "                              'tipo_logradouro_anterior' : 'TIPO_LOGRADOURO_ANTERIOR',\n",
        "                              'nome_logradoro_anterior' : 'NOME_LOGRADOURO_ANTERIOR',\n",
        "                              'Numero_bairro' : 'NUMERO_BAIRRO',\n",
        "                              'nome_bairro' : 'NOME_BAIRRO',\n",
        "                              'tipo_bairro' : 'TIPO_BAIRRO',\n",
        "                              'descricao_tipo_bairro' : 'DESCRICAO_TIPO_BAIRRO',\n",
        "                              'numero_imovel' : 'NUMERO_IMOVEL',\n",
        "                              'numero_imovel_proximo' : 'NUMERO_IMOVEL_PROXIMO'}, inplace = True)"
      ],
      "metadata": {
        "id": "Ymnfa6AMOzY0"
      },
      "execution_count": null,
      "outputs": []
    },
    {
      "cell_type": "code",
      "source": [
        "df_log_2013.columns"
      ],
      "metadata": {
        "colab": {
          "base_uri": "https://localhost:8080/"
        },
        "id": "2pIHqjZLOzQT",
        "outputId": "46802114-7ce8-4ec1-bb25-cc18d3237968"
      },
      "execution_count": null,
      "outputs": [
        {
          "output_type": "execute_result",
          "data": {
            "text/plain": [
              "Index(['NUMERO_BOLETIM', 'DATA_BOLETIM', 'NUMERO_MUNICIPIO', 'NOME_MUNICIPIO',\n",
              "       'SEQUENCIA_LOGRADOUROS', 'NUMERO_LOGRADOURO', 'TIPO_LOGRADOURO',\n",
              "       'NOME_LOGRADOURO', 'TIPO_LOGRADOURO_ANTERIOR',\n",
              "       'NOME_LOGRADOURO_ANTERIOR', 'NUMERO_BAIRRO', 'NOME_BAIRRO',\n",
              "       'TIPO_BAIRRO', 'DESCRICAO_TIPO_BAIRRO', 'NUMERO_IMOVEL',\n",
              "       'NUMERO_IMOVEL_PROXIMO'],\n",
              "      dtype='object')"
            ]
          },
          "metadata": {},
          "execution_count": 728
        }
      ]
    },
    {
      "cell_type": "code",
      "source": [
        "df_log_2014 = pd.read_csv('/content/drive/MyDrive/Colab Notebooks/Projeto Grupo 12/Datasets/si-log-2014.csv', encoding='iso8859-1', sep = \";\", skipinitialspace = True)\n",
        "df_log_2014.shape"
      ],
      "metadata": {
        "colab": {
          "base_uri": "https://localhost:8080/"
        },
        "id": "QmT2b4KXEexa",
        "outputId": "f0158d82-b72d-4716-d794-6c67df8ded25"
      },
      "execution_count": null,
      "outputs": [
        {
          "output_type": "execute_result",
          "data": {
            "text/plain": [
              "(20600, 16)"
            ]
          },
          "metadata": {},
          "execution_count": 729
        }
      ]
    },
    {
      "cell_type": "code",
      "source": [
        "df_log_2014.columns"
      ],
      "metadata": {
        "colab": {
          "base_uri": "https://localhost:8080/"
        },
        "id": "mrcni6X9O9vF",
        "outputId": "3ac594b9-a37f-4e0b-f48f-7a5eb4a34b00"
      },
      "execution_count": null,
      "outputs": [
        {
          "output_type": "execute_result",
          "data": {
            "text/plain": [
              "Index(['numero_boletim', 'data_boletim', 'numero_municipio', 'nome_municipio',\n",
              "       'sequencia_logradouros', 'numero_logradouro', 'tipo_logradouro',\n",
              "       'nome_logradouro', 'tipo_logradouro_anterior',\n",
              "       'nome_logradoro_anterior', 'Numero_bairro', 'nome_bairro',\n",
              "       'tipo_bairro', 'descricao_tipo_bairro', 'numero_imovel',\n",
              "       'numero_imovel_proximo'],\n",
              "      dtype='object')"
            ]
          },
          "metadata": {},
          "execution_count": 730
        }
      ]
    },
    {
      "cell_type": "code",
      "source": [
        "df_log_2014.rename(columns = {'numero_boletim' : 'NUMERO_BOLETIM',\n",
        "                              'data_boletim' : 'DATA_BOLETIM',\n",
        "                              'numero_municipio' : 'NUMERO_MUNICIPIO',\n",
        "                              'nome_municipio' : 'NOME_MUNICIPIO',\n",
        "                              'sequencia_logradouros' : 'SEQUENCIA_LOGRADOUROS',\n",
        "                              'numero_logradouro' : 'NUMERO_LOGRADOURO',\n",
        "                              'tipo_logradouro' : 'TIPO_LOGRADOURO',\n",
        "                              'nome_logradouro' : 'NOME_LOGRADOURO',\n",
        "                              'tipo_logradouro_anterior' : 'TIPO_LOGRADOURO_ANTERIOR',\n",
        "                              'nome_logradoro_anterior' : 'NOME_LOGRADOURO_ANTERIOR',\n",
        "                              'Numero_bairro' : 'NUMERO_BAIRRO',\n",
        "                              'nome_bairro' : 'NOME_BAIRRO',\n",
        "                              'tipo_bairro' : 'TIPO_BAIRRO',\n",
        "                              'descricao_tipo_bairro' : 'DESCRICAO_TIPO_BAIRRO',\n",
        "                              'numero_imovel' : 'NUMERO_IMOVEL',\n",
        "                              'numero_imovel_proximo' : 'NUMERO_IMOVEL_PROXIMO'}, inplace = True)"
      ],
      "metadata": {
        "id": "JG7htzDQO9eO"
      },
      "execution_count": null,
      "outputs": []
    },
    {
      "cell_type": "code",
      "source": [
        "df_log_2014.columns"
      ],
      "metadata": {
        "colab": {
          "base_uri": "https://localhost:8080/"
        },
        "id": "ZjiedNrmO9Sa",
        "outputId": "0ea460a9-3746-46a6-d6fe-51230edf77de"
      },
      "execution_count": null,
      "outputs": [
        {
          "output_type": "execute_result",
          "data": {
            "text/plain": [
              "Index(['NUMERO_BOLETIM', 'DATA_BOLETIM', 'NUMERO_MUNICIPIO', 'NOME_MUNICIPIO',\n",
              "       'SEQUENCIA_LOGRADOUROS', 'NUMERO_LOGRADOURO', 'TIPO_LOGRADOURO',\n",
              "       'NOME_LOGRADOURO', 'TIPO_LOGRADOURO_ANTERIOR',\n",
              "       'NOME_LOGRADOURO_ANTERIOR', 'NUMERO_BAIRRO', 'NOME_BAIRRO',\n",
              "       'TIPO_BAIRRO', 'DESCRICAO_TIPO_BAIRRO', 'NUMERO_IMOVEL',\n",
              "       'NUMERO_IMOVEL_PROXIMO'],\n",
              "      dtype='object')"
            ]
          },
          "metadata": {},
          "execution_count": 732
        }
      ]
    },
    {
      "cell_type": "code",
      "source": [
        "df_log_2015 = pd.read_csv('/content/drive/MyDrive/Colab Notebooks/Projeto Grupo 12/Datasets/si-log-2015.csv', encoding='iso8859-1', sep = \";\", skipinitialspace = True)\n",
        "df_log_2015.shape"
      ],
      "metadata": {
        "colab": {
          "base_uri": "https://localhost:8080/"
        },
        "id": "BwblU7ptEegK",
        "outputId": "cffa6e57-0f46-431c-f2b0-321e096f09bc"
      },
      "execution_count": null,
      "outputs": [
        {
          "output_type": "execute_result",
          "data": {
            "text/plain": [
              "(17644, 16)"
            ]
          },
          "metadata": {},
          "execution_count": 733
        }
      ]
    },
    {
      "cell_type": "code",
      "source": [
        "df_log_2015.columns"
      ],
      "metadata": {
        "colab": {
          "base_uri": "https://localhost:8080/"
        },
        "id": "qVy6SWqRPJzK",
        "outputId": "c837bb86-d1e4-46f9-bf4a-b9d99242d519"
      },
      "execution_count": null,
      "outputs": [
        {
          "output_type": "execute_result",
          "data": {
            "text/plain": [
              "Index(['numero_boletim', 'data_boletim', 'numero_municipio', 'nome_municipio',\n",
              "       'sequencia_logradouros', 'numero_logradouro', 'tipo_logradouro',\n",
              "       'nome_logradouro', 'tipo_logradouro_anterior',\n",
              "       'nome_logradoro_anterior', 'Numero_bairro', 'nome_bairro',\n",
              "       'tipo_bairro', 'descricao_tipo_bairro', 'numero_imovel',\n",
              "       'numero_imovel_proximo'],\n",
              "      dtype='object')"
            ]
          },
          "metadata": {},
          "execution_count": 734
        }
      ]
    },
    {
      "cell_type": "code",
      "source": [
        "df_log_2015.rename(columns = {'numero_boletim' : 'NUMERO_BOLETIM',\n",
        "                              'data_boletim' : 'DATA_BOLETIM',\n",
        "                              'numero_municipio' : 'NUMERO_MUNICIPIO',\n",
        "                              'nome_municipio' : 'NOME_MUNICIPIO',\n",
        "                              'sequencia_logradouros' : 'SEQUENCIA_LOGRADOUROS',\n",
        "                              'numero_logradouro' : 'NUMERO_LOGRADOURO',\n",
        "                              'tipo_logradouro' : 'TIPO_LOGRADOURO',\n",
        "                              'nome_logradouro' : 'NOME_LOGRADOURO',\n",
        "                              'tipo_logradouro_anterior' : 'TIPO_LOGRADOURO_ANTERIOR',\n",
        "                              'nome_logradoro_anterior' : 'NOME_LOGRADOURO_ANTERIOR',\n",
        "                              'Numero_bairro' : 'NUMERO_BAIRRO',\n",
        "                              'nome_bairro' : 'NOME_BAIRRO',\n",
        "                              'tipo_bairro' : 'TIPO_BAIRRO',\n",
        "                              'descricao_tipo_bairro' : 'DESCRICAO_TIPO_BAIRRO',\n",
        "                              'numero_imovel' : 'NUMERO_IMOVEL',\n",
        "                              'numero_imovel_proximo' : 'NUMERO_IMOVEL_PROXIMO'}, inplace = True)"
      ],
      "metadata": {
        "id": "W9iiQR7nPJn0"
      },
      "execution_count": null,
      "outputs": []
    },
    {
      "cell_type": "code",
      "source": [
        "df_log_2015.columns"
      ],
      "metadata": {
        "colab": {
          "base_uri": "https://localhost:8080/"
        },
        "id": "aVrBxj96PJdq",
        "outputId": "1d3b963f-5580-4442-dc81-14ece7327c17"
      },
      "execution_count": null,
      "outputs": [
        {
          "output_type": "execute_result",
          "data": {
            "text/plain": [
              "Index(['NUMERO_BOLETIM', 'DATA_BOLETIM', 'NUMERO_MUNICIPIO', 'NOME_MUNICIPIO',\n",
              "       'SEQUENCIA_LOGRADOUROS', 'NUMERO_LOGRADOURO', 'TIPO_LOGRADOURO',\n",
              "       'NOME_LOGRADOURO', 'TIPO_LOGRADOURO_ANTERIOR',\n",
              "       'NOME_LOGRADOURO_ANTERIOR', 'NUMERO_BAIRRO', 'NOME_BAIRRO',\n",
              "       'TIPO_BAIRRO', 'DESCRICAO_TIPO_BAIRRO', 'NUMERO_IMOVEL',\n",
              "       'NUMERO_IMOVEL_PROXIMO'],\n",
              "      dtype='object')"
            ]
          },
          "metadata": {},
          "execution_count": 736
        }
      ]
    },
    {
      "cell_type": "code",
      "source": [
        "df_log_2016 = pd.read_csv('/content/drive/MyDrive/Colab Notebooks/Projeto Grupo 12/Datasets/si-log-2016.csv', encoding='iso8859-1', sep = \";\", skipinitialspace = True)\n",
        "df_log_2016.shape"
      ],
      "metadata": {
        "colab": {
          "base_uri": "https://localhost:8080/"
        },
        "id": "Pb9FhmsqEeSj",
        "outputId": "800d88a6-7efd-44b3-a66d-0710a173bb4a"
      },
      "execution_count": null,
      "outputs": [
        {
          "output_type": "execute_result",
          "data": {
            "text/plain": [
              "(16392, 16)"
            ]
          },
          "metadata": {},
          "execution_count": 737
        }
      ]
    },
    {
      "cell_type": "code",
      "source": [
        "df_log_2016.columns"
      ],
      "metadata": {
        "colab": {
          "base_uri": "https://localhost:8080/"
        },
        "id": "ZjOarzb9PWGK",
        "outputId": "d4b54881-b1ea-4916-cf27-21b669a8a757"
      },
      "execution_count": null,
      "outputs": [
        {
          "output_type": "execute_result",
          "data": {
            "text/plain": [
              "Index(['Nº_boletim', 'data_boletim', 'Nº_municipio', 'nome_municipio',\n",
              "       'seq_logradouros', 'Nº_logradouro', 'tipo_logradouro',\n",
              "       'nome_logradouro', 'tipo_logradouro_anterior',\n",
              "       'nome_logradoro_anterior', 'Nº_bairro', 'nome_bairro', 'tipo_bairro',\n",
              "       'descricao_tipo_bairro', 'Nº_imovel', 'Nº_imovel_proximo'],\n",
              "      dtype='object')"
            ]
          },
          "metadata": {},
          "execution_count": 738
        }
      ]
    },
    {
      "cell_type": "code",
      "source": [
        "df_log_2016.rename(columns = {'Nº_boletim' : 'NUMERO_BOLETIM',\n",
        "                              'data_boletim' : 'DATA_BOLETIM',\n",
        "                              'Nº_municipio' : 'NUMERO_MUNICIPIO',\n",
        "                              'nome_municipio' : 'NOME_MUNICIPIO',\n",
        "                              'seq_logradouros' : 'SEQUENCIA_LOGRADOUROS',\n",
        "                              'Nº_logradouro' : 'NUMERO_LOGRADOURO',\n",
        "                              'tipo_logradouro' : 'TIPO_LOGRADOURO',\n",
        "                              'nome_logradouro' : 'NOME_LOGRADOURO',\n",
        "                              'tipo_logradouro_anterior' : 'TIPO_LOGRADOURO_ANTERIOR',\n",
        "                              'nome_logradoro_anterior' : 'NOME_LOGRADOURO_ANTERIOR',\n",
        "                              'Nº_bairro' : 'NUMERO_BAIRRO',\n",
        "                              'nome_bairro' : 'NOME_BAIRRO',\n",
        "                              'tipo_bairro' : 'TIPO_BAIRRO',\n",
        "                              'descricao_tipo_bairro' : 'DESCRICAO_TIPO_BAIRRO',\n",
        "                              'Nº_imovel' : 'NUMERO_IMOVEL',\n",
        "                              'Nº_imovel_proximo' : 'NUMERO_IMOVEL_PROXIMO'}, inplace = True)"
      ],
      "metadata": {
        "id": "vpOS-f4uPV9q"
      },
      "execution_count": null,
      "outputs": []
    },
    {
      "cell_type": "code",
      "source": [
        "df_log_2016.columns"
      ],
      "metadata": {
        "colab": {
          "base_uri": "https://localhost:8080/"
        },
        "id": "rdQI4dolPV16",
        "outputId": "a5733588-03f3-424e-e4e9-1e1f4f3ba586"
      },
      "execution_count": null,
      "outputs": [
        {
          "output_type": "execute_result",
          "data": {
            "text/plain": [
              "Index(['NUMERO_BOLETIM', 'DATA_BOLETIM', 'NUMERO_MUNICIPIO', 'NOME_MUNICIPIO',\n",
              "       'SEQUENCIA_LOGRADOUROS', 'NUMERO_LOGRADOURO', 'TIPO_LOGRADOURO',\n",
              "       'NOME_LOGRADOURO', 'TIPO_LOGRADOURO_ANTERIOR',\n",
              "       'NOME_LOGRADOURO_ANTERIOR', 'NUMERO_BAIRRO', 'NOME_BAIRRO',\n",
              "       'TIPO_BAIRRO', 'DESCRICAO_TIPO_BAIRRO', 'NUMERO_IMOVEL',\n",
              "       'NUMERO_IMOVEL_PROXIMO'],\n",
              "      dtype='object')"
            ]
          },
          "metadata": {},
          "execution_count": 740
        }
      ]
    },
    {
      "cell_type": "code",
      "source": [
        "df_log_2017 = pd.read_csv('/content/drive/MyDrive/Colab Notebooks/Projeto Grupo 12/Datasets/si-log-2017.csv', encoding='iso8859-1', sep = \";\", skipinitialspace = True)\n",
        "df_log_2017.shape"
      ],
      "metadata": {
        "colab": {
          "base_uri": "https://localhost:8080/"
        },
        "id": "GZHX2uyTn64r",
        "outputId": "de0f4323-5ba1-4873-f88a-2295169c088e"
      },
      "execution_count": null,
      "outputs": [
        {
          "output_type": "execute_result",
          "data": {
            "text/plain": [
              "(16072, 16)"
            ]
          },
          "metadata": {},
          "execution_count": 741
        }
      ]
    },
    {
      "cell_type": "code",
      "source": [
        "df_log_2017.columns"
      ],
      "metadata": {
        "colab": {
          "base_uri": "https://localhost:8080/"
        },
        "id": "fQqmG4YCQGBZ",
        "outputId": "82e1bffc-5a19-4b4b-aa1f-0c413e2b009c"
      },
      "execution_count": null,
      "outputs": [
        {
          "output_type": "execute_result",
          "data": {
            "text/plain": [
              "Index(['Nº_boletim', 'data_boletim', 'Nº_municipio', 'nome_municipio',\n",
              "       'seq_logradouros', 'Nº_logradouro', 'tipo_logradouro',\n",
              "       'nome_logradouro', 'tipo_logradouro_anterior',\n",
              "       'nome_logradoro_anterior', 'Nº_bairro', 'nome_bairro', 'tipo_bairro',\n",
              "       'descricao_tipo_bairro', 'Nº_imovel', 'Nº_imovel_proximo'],\n",
              "      dtype='object')"
            ]
          },
          "metadata": {},
          "execution_count": 742
        }
      ]
    },
    {
      "cell_type": "code",
      "source": [
        "df_log_2017.rename(columns = {'Nº_boletim' : 'NUMERO_BOLETIM',\n",
        "                              'data_boletim' : 'DATA_BOLETIM',\n",
        "                              'Nº_municipio' : 'NUMERO_MUNICIPIO',\n",
        "                              'nome_municipio' : 'NOME_MUNICIPIO',\n",
        "                              'seq_logradouros' : 'SEQUENCIA_LOGRADOUROS',\n",
        "                              'Nº_logradouro' : 'NUMERO_LOGRADOURO',\n",
        "                              'tipo_logradouro' : 'TIPO_LOGRADOURO',\n",
        "                              'nome_logradouro' : 'NOME_LOGRADOURO',\n",
        "                              'tipo_logradouro_anterior' : 'TIPO_LOGRADOURO_ANTERIOR',\n",
        "                              'nome_logradoro_anterior' : 'NOME_LOGRADOURO_ANTERIOR',\n",
        "                              'Nº_bairro' : 'NUMERO_BAIRRO',\n",
        "                              'nome_bairro' : 'NOME_BAIRRO',\n",
        "                              'tipo_bairro' : 'TIPO_BAIRRO',\n",
        "                              'descricao_tipo_bairro' : 'DESCRICAO_TIPO_BAIRRO',\n",
        "                              'Nº_imovel' : 'NUMERO_IMOVEL',\n",
        "                              'Nº_imovel_proximo' : 'NUMERO_IMOVEL_PROXIMO'}, inplace = True)"
      ],
      "metadata": {
        "id": "tQtv4LI9QF6M"
      },
      "execution_count": null,
      "outputs": []
    },
    {
      "cell_type": "code",
      "source": [
        "df_log_2017.columns"
      ],
      "metadata": {
        "colab": {
          "base_uri": "https://localhost:8080/"
        },
        "id": "eEnDIkvBQFyp",
        "outputId": "27f89b5f-3fb4-4bf9-9bec-e7fd89033226"
      },
      "execution_count": null,
      "outputs": [
        {
          "output_type": "execute_result",
          "data": {
            "text/plain": [
              "Index(['NUMERO_BOLETIM', 'DATA_BOLETIM', 'NUMERO_MUNICIPIO', 'NOME_MUNICIPIO',\n",
              "       'SEQUENCIA_LOGRADOUROS', 'NUMERO_LOGRADOURO', 'TIPO_LOGRADOURO',\n",
              "       'NOME_LOGRADOURO', 'TIPO_LOGRADOURO_ANTERIOR',\n",
              "       'NOME_LOGRADOURO_ANTERIOR', 'NUMERO_BAIRRO', 'NOME_BAIRRO',\n",
              "       'TIPO_BAIRRO', 'DESCRICAO_TIPO_BAIRRO', 'NUMERO_IMOVEL',\n",
              "       'NUMERO_IMOVEL_PROXIMO'],\n",
              "      dtype='object')"
            ]
          },
          "metadata": {},
          "execution_count": 744
        }
      ]
    },
    {
      "cell_type": "code",
      "source": [
        "df_log_2018 = pd.read_csv('/content/drive/MyDrive/Colab Notebooks/Projeto Grupo 12/Datasets/si-log-2018.csv', encoding='iso8859-1', sep = \";\", skipinitialspace = True)\n",
        "df_log_2018.shape"
      ],
      "metadata": {
        "colab": {
          "base_uri": "https://localhost:8080/"
        },
        "id": "UfQU5j_rpWfD",
        "outputId": "62097a95-f222-40ca-d104-07f514608b41"
      },
      "execution_count": null,
      "outputs": [
        {
          "output_type": "execute_result",
          "data": {
            "text/plain": [
              "(15253, 16)"
            ]
          },
          "metadata": {},
          "execution_count": 745
        }
      ]
    },
    {
      "cell_type": "code",
      "source": [
        "df_log_2018.columns"
      ],
      "metadata": {
        "colab": {
          "base_uri": "https://localhost:8080/"
        },
        "id": "eooJKshzQRXj",
        "outputId": "0eac861d-1740-4aa5-f3f6-f7b40c57c2cb"
      },
      "execution_count": null,
      "outputs": [
        {
          "output_type": "execute_result",
          "data": {
            "text/plain": [
              "Index(['Nº_boletim', 'data_boletim', 'Nº_municipio', 'nome_municipio',\n",
              "       'seq_logradouros', 'Nº_logradouro', 'tipo_logradouro',\n",
              "       'nome_logradouro', 'tipo_logradouro_anterior',\n",
              "       'nome_logradoro_anterior', 'Nº_bairro', 'nome_bairro', 'tipo_bairro',\n",
              "       'descricao_tipo_bairro', 'Nº_imovel', 'Nº_imovel_proximo'],\n",
              "      dtype='object')"
            ]
          },
          "metadata": {},
          "execution_count": 746
        }
      ]
    },
    {
      "cell_type": "code",
      "source": [
        "df_log_2018.rename(columns = {'Nº_boletim' : 'NUMERO_BOLETIM',\n",
        "                              'data_boletim' : 'DATA_BOLETIM',\n",
        "                              'Nº_municipio' : 'NUMERO_MUNICIPIO',\n",
        "                              'nome_municipio' : 'NOME_MUNICIPIO',\n",
        "                              'seq_logradouros' : 'SEQUENCIA_LOGRADOUROS',\n",
        "                              'Nº_logradouro' : 'NUMERO_LOGRADOURO',\n",
        "                              'tipo_logradouro' : 'TIPO_LOGRADOURO',\n",
        "                              'nome_logradouro' : 'NOME_LOGRADOURO',\n",
        "                              'tipo_logradouro_anterior' : 'TIPO_LOGRADOURO_ANTERIOR',\n",
        "                              'nome_logradoro_anterior' : 'NOME_LOGRADOURO_ANTERIOR',\n",
        "                              'Nº_bairro' : 'NUMERO_BAIRRO',\n",
        "                              'nome_bairro' : 'NOME_BAIRRO',\n",
        "                              'tipo_bairro' : 'TIPO_BAIRRO',\n",
        "                              'descricao_tipo_bairro' : 'DESCRICAO_TIPO_BAIRRO',\n",
        "                              'Nº_imovel' : 'NUMERO_IMOVEL',\n",
        "                              'Nº_imovel_proximo' : 'NUMERO_IMOVEL_PROXIMO'}, inplace = True)"
      ],
      "metadata": {
        "id": "zUHwgJ7CQRQv"
      },
      "execution_count": null,
      "outputs": []
    },
    {
      "cell_type": "code",
      "source": [
        "df_log_2018.columns"
      ],
      "metadata": {
        "colab": {
          "base_uri": "https://localhost:8080/"
        },
        "id": "2WBTW5WTQQ8R",
        "outputId": "cfa7c3c1-3f87-47cb-b3ec-4716941dd39f"
      },
      "execution_count": null,
      "outputs": [
        {
          "output_type": "execute_result",
          "data": {
            "text/plain": [
              "Index(['NUMERO_BOLETIM', 'DATA_BOLETIM', 'NUMERO_MUNICIPIO', 'NOME_MUNICIPIO',\n",
              "       'SEQUENCIA_LOGRADOUROS', 'NUMERO_LOGRADOURO', 'TIPO_LOGRADOURO',\n",
              "       'NOME_LOGRADOURO', 'TIPO_LOGRADOURO_ANTERIOR',\n",
              "       'NOME_LOGRADOURO_ANTERIOR', 'NUMERO_BAIRRO', 'NOME_BAIRRO',\n",
              "       'TIPO_BAIRRO', 'DESCRICAO_TIPO_BAIRRO', 'NUMERO_IMOVEL',\n",
              "       'NUMERO_IMOVEL_PROXIMO'],\n",
              "      dtype='object')"
            ]
          },
          "metadata": {},
          "execution_count": 748
        }
      ]
    },
    {
      "cell_type": "code",
      "source": [
        "df_log_2019 = pd.read_csv('/content/drive/MyDrive/Colab Notebooks/Projeto Grupo 12/Datasets/si-log-2019.csv', encoding='iso8859-1', sep = \";\", skipinitialspace = True)\n",
        "df_log_2019.shape"
      ],
      "metadata": {
        "colab": {
          "base_uri": "https://localhost:8080/"
        },
        "id": "7qV15rl5pdup",
        "outputId": "513faa73-7b26-427c-f845-89b79b3fee06"
      },
      "execution_count": null,
      "outputs": [
        {
          "output_type": "execute_result",
          "data": {
            "text/plain": [
              "(17576, 16)"
            ]
          },
          "metadata": {},
          "execution_count": 749
        }
      ]
    },
    {
      "cell_type": "code",
      "source": [
        "df_log_2019.columns"
      ],
      "metadata": {
        "colab": {
          "base_uri": "https://localhost:8080/"
        },
        "id": "5eb35ik1QbAm",
        "outputId": "2e1fb718-6b15-4fc9-868d-302966162b7f"
      },
      "execution_count": null,
      "outputs": [
        {
          "output_type": "execute_result",
          "data": {
            "text/plain": [
              "Index(['Nº_boletim', 'data_boletim', 'Nº_municipio', 'nome_municipio',\n",
              "       'seq_logradouros', 'Nº_logradouro', 'tipo_logradouro',\n",
              "       'nome_logradouro', 'tipo_logradouro_anterior',\n",
              "       'nome_logradouro_anterior', 'Nº_bairro', 'nome_bairro', 'tipo_bairro',\n",
              "       'descricao_tipo_bairro', 'Nº_imovel', 'Nº_imovel_proximo'],\n",
              "      dtype='object')"
            ]
          },
          "metadata": {},
          "execution_count": 750
        }
      ]
    },
    {
      "cell_type": "code",
      "source": [
        "df_log_2019.rename(columns = {'Nº_boletim' : 'NUMERO_BOLETIM',\n",
        "                              'data_boletim' : 'DATA_BOLETIM',\n",
        "                              'Nº_municipio' : 'NUMERO_MUNICIPIO',\n",
        "                              'nome_municipio' : 'NOME_MUNICIPIO',\n",
        "                              'seq_logradouros' : 'SEQUENCIA_LOGRADOUROS',\n",
        "                              'Nº_logradouro' : 'NUMERO_LOGRADOURO',\n",
        "                              'tipo_logradouro' : 'TIPO_LOGRADOURO',\n",
        "                              'nome_logradouro' : 'NOME_LOGRADOURO',\n",
        "                              'tipo_logradouro_anterior' : 'TIPO_LOGRADOURO_ANTERIOR',\n",
        "                              'nome_logradouro_anterior' : 'NOME_LOGRADOURO_ANTERIOR',\n",
        "                              'Nº_bairro' : 'NUMERO_BAIRRO',\n",
        "                              'nome_bairro' : 'NOME_BAIRRO',\n",
        "                              'tipo_bairro' : 'TIPO_BAIRRO',\n",
        "                              'descricao_tipo_bairro' : 'DESCRICAO_TIPO_BAIRRO',\n",
        "                              'Nº_imovel' : 'NUMERO_IMOVEL',\n",
        "                              'Nº_imovel_proximo' : 'NUMERO_IMOVEL_PROXIMO'}, inplace = True)"
      ],
      "metadata": {
        "id": "TMMWsKGBQa6G"
      },
      "execution_count": null,
      "outputs": []
    },
    {
      "cell_type": "code",
      "source": [
        "df_log_2019.columns"
      ],
      "metadata": {
        "colab": {
          "base_uri": "https://localhost:8080/"
        },
        "id": "F2r3S7VcQay2",
        "outputId": "326059cc-6c20-47be-e948-7a229b047ff8"
      },
      "execution_count": null,
      "outputs": [
        {
          "output_type": "execute_result",
          "data": {
            "text/plain": [
              "Index(['NUMERO_BOLETIM', 'DATA_BOLETIM', 'NUMERO_MUNICIPIO', 'NOME_MUNICIPIO',\n",
              "       'SEQUENCIA_LOGRADOUROS', 'NUMERO_LOGRADOURO', 'TIPO_LOGRADOURO',\n",
              "       'NOME_LOGRADOURO', 'TIPO_LOGRADOURO_ANTERIOR',\n",
              "       'NOME_LOGRADOURO_ANTERIOR', 'NUMERO_BAIRRO', 'NOME_BAIRRO',\n",
              "       'TIPO_BAIRRO', 'DESCRICAO_TIPO_BAIRRO', 'NUMERO_IMOVEL',\n",
              "       'NUMERO_IMOVEL_PROXIMO'],\n",
              "      dtype='object')"
            ]
          },
          "metadata": {},
          "execution_count": 752
        }
      ]
    },
    {
      "cell_type": "code",
      "source": [
        "df_log_2020 = pd.read_csv('/content/drive/MyDrive/Colab Notebooks/Projeto Grupo 12/Datasets/si-log-2020.csv', encoding='iso8859-1', sep = \";\", skipinitialspace = True)\n",
        "df_log_2020.shape"
      ],
      "metadata": {
        "colab": {
          "base_uri": "https://localhost:8080/"
        },
        "id": "_oMZ-39Jpi34",
        "outputId": "7a87a07d-da96-4699-afe9-fa770f091985"
      },
      "execution_count": null,
      "outputs": [
        {
          "output_type": "execute_result",
          "data": {
            "text/plain": [
              "(14181, 16)"
            ]
          },
          "metadata": {},
          "execution_count": 753
        }
      ]
    },
    {
      "cell_type": "code",
      "source": [
        "df_log_2020.columns"
      ],
      "metadata": {
        "colab": {
          "base_uri": "https://localhost:8080/"
        },
        "id": "ONvEe8AhQigf",
        "outputId": "bd2abc4b-63ba-4883-eb25-3fef821ea200"
      },
      "execution_count": null,
      "outputs": [
        {
          "output_type": "execute_result",
          "data": {
            "text/plain": [
              "Index(['Nº_boletim', 'data_boletim', 'Nº_municipio', 'nome_municipio',\n",
              "       'seq_logradouros', 'Nº_logradouro', 'tipo_logradouro',\n",
              "       'nome_logradouro', 'tipo_logradouro_anterior',\n",
              "       'nome_logradouro_anterior', 'Nº_bairro', 'nome_bairro', 'tipo_bairro',\n",
              "       'descricao_tipo_bairro', 'Nº_imovel', 'Nº_imovel_proximo'],\n",
              "      dtype='object')"
            ]
          },
          "metadata": {},
          "execution_count": 754
        }
      ]
    },
    {
      "cell_type": "code",
      "source": [
        "df_log_2020.rename(columns = {'Nº_boletim' : 'NUMERO_BOLETIM',\n",
        "                              'data_boletim' : 'DATA_BOLETIM',\n",
        "                              'Nº_municipio' : 'NUMERO_MUNICIPIO',\n",
        "                              'nome_municipio' : 'NOME_MUNICIPIO',\n",
        "                              'seq_logradouros' : 'SEQUENCIA_LOGRADOUROS',\n",
        "                              'Nº_logradouro' : 'NUMERO_LOGRADOURO',\n",
        "                              'tipo_logradouro' : 'TIPO_LOGRADOURO',\n",
        "                              'nome_logradouro' : 'NOME_LOGRADOURO',\n",
        "                              'tipo_logradouro_anterior' : 'TIPO_LOGRADOURO_ANTERIOR',\n",
        "                              'nome_logradouro_anterior' : 'NOME_LOGRADOURO_ANTERIOR',\n",
        "                              'Nº_bairro' : 'NUMERO_BAIRRO',\n",
        "                              'nome_bairro' : 'NOME_BAIRRO',\n",
        "                              'tipo_bairro' : 'TIPO_BAIRRO',\n",
        "                              'descricao_tipo_bairro' : 'DESCRICAO_TIPO_BAIRRO',\n",
        "                              'Nº_imovel' : 'NUMERO_IMOVEL',\n",
        "                              'Nº_imovel_proximo' : 'NUMERO_IMOVEL_PROXIMO'}, inplace = True)"
      ],
      "metadata": {
        "id": "d7q2B4FHQiXY"
      },
      "execution_count": null,
      "outputs": []
    },
    {
      "cell_type": "code",
      "source": [
        "df_log_2020.columns"
      ],
      "metadata": {
        "colab": {
          "base_uri": "https://localhost:8080/"
        },
        "id": "OtrDNliaQiPP",
        "outputId": "47d16147-0a51-4bf2-d426-5099a56fe662"
      },
      "execution_count": null,
      "outputs": [
        {
          "output_type": "execute_result",
          "data": {
            "text/plain": [
              "Index(['NUMERO_BOLETIM', 'DATA_BOLETIM', 'NUMERO_MUNICIPIO', 'NOME_MUNICIPIO',\n",
              "       'SEQUENCIA_LOGRADOUROS', 'NUMERO_LOGRADOURO', 'TIPO_LOGRADOURO',\n",
              "       'NOME_LOGRADOURO', 'TIPO_LOGRADOURO_ANTERIOR',\n",
              "       'NOME_LOGRADOURO_ANTERIOR', 'NUMERO_BAIRRO', 'NOME_BAIRRO',\n",
              "       'TIPO_BAIRRO', 'DESCRICAO_TIPO_BAIRRO', 'NUMERO_IMOVEL',\n",
              "       'NUMERO_IMOVEL_PROXIMO'],\n",
              "      dtype='object')"
            ]
          },
          "metadata": {},
          "execution_count": 756
        }
      ]
    },
    {
      "cell_type": "code",
      "source": [
        "df_log_2021 = pd.read_csv('/content/drive/MyDrive/Colab Notebooks/Projeto Grupo 12/Datasets/si-log-2021.csv', encoding='iso8859-1', sep = \";\", skipinitialspace = True)\n",
        "df_log_2021.shape"
      ],
      "metadata": {
        "colab": {
          "base_uri": "https://localhost:8080/"
        },
        "id": "O3eReG36pprZ",
        "outputId": "3f9988d8-d112-4cd0-a646-22c618d7f632"
      },
      "execution_count": null,
      "outputs": [
        {
          "output_type": "execute_result",
          "data": {
            "text/plain": [
              "(14437, 16)"
            ]
          },
          "metadata": {},
          "execution_count": 757
        }
      ]
    },
    {
      "cell_type": "code",
      "source": [
        "df_log_2021.columns"
      ],
      "metadata": {
        "colab": {
          "base_uri": "https://localhost:8080/"
        },
        "id": "xaB905S0QrDZ",
        "outputId": "efc0b26b-c8fd-451b-9c57-6f3afdfd16bd"
      },
      "execution_count": null,
      "outputs": [
        {
          "output_type": "execute_result",
          "data": {
            "text/plain": [
              "Index(['Nº_boletim', 'data_boletim', 'Nº_municipio', 'nome_municipio',\n",
              "       'seq_logradouros', 'Nº_logradouro', 'tipo_logradouro',\n",
              "       'nome_logradouro', 'tipo_logradouro_anterior',\n",
              "       'nome_logradoro_anterior', 'Nº_bairro', 'nome_bairro', 'tipo_bairro',\n",
              "       'descricao_tipo_bairro', 'Nº_imovel', 'Nº_imovel_proximo'],\n",
              "      dtype='object')"
            ]
          },
          "metadata": {},
          "execution_count": 758
        }
      ]
    },
    {
      "cell_type": "code",
      "source": [
        "df_log_2021.rename(columns = {'Nº_boletim' : 'NUMERO_BOLETIM',\n",
        "                              'data_boletim' : 'DATA_BOLETIM',\n",
        "                              'Nº_municipio' : 'NUMERO_MUNICIPIO',\n",
        "                              'nome_municipio' : 'NOME_MUNICIPIO',\n",
        "                              'seq_logradouros' : 'SEQUENCIA_LOGRADOUROS',\n",
        "                              'Nº_logradouro' : 'NUMERO_LOGRADOURO',\n",
        "                              'tipo_logradouro' : 'TIPO_LOGRADOURO',\n",
        "                              'nome_logradouro' : 'NOME_LOGRADOURO',\n",
        "                              'tipo_logradouro_anterior' : 'TIPO_LOGRADOURO_ANTERIOR',\n",
        "                              'nome_logradoro_anterior' : 'NOME_LOGRADOURO_ANTERIOR',\n",
        "                              'Nº_bairro' : 'NUMERO_BAIRRO',\n",
        "                              'nome_bairro' : 'NOME_BAIRRO',\n",
        "                              'tipo_bairro' : 'TIPO_BAIRRO',\n",
        "                              'descricao_tipo_bairro' : 'DESCRICAO_TIPO_BAIRRO',\n",
        "                              'Nº_imovel' : 'NUMERO_IMOVEL',\n",
        "                              'Nº_imovel_proximo' : 'NUMERO_IMOVEL_PROXIMO'}, inplace = True)"
      ],
      "metadata": {
        "id": "KpCwNbKFQrv-"
      },
      "execution_count": null,
      "outputs": []
    },
    {
      "cell_type": "code",
      "source": [
        "df_log_2021.columns"
      ],
      "metadata": {
        "colab": {
          "base_uri": "https://localhost:8080/"
        },
        "id": "rozJZ4ITQq5W",
        "outputId": "cca4a7b2-208f-49dd-d579-9fb161b41b06"
      },
      "execution_count": null,
      "outputs": [
        {
          "output_type": "execute_result",
          "data": {
            "text/plain": [
              "Index(['NUMERO_BOLETIM', 'DATA_BOLETIM', 'NUMERO_MUNICIPIO', 'NOME_MUNICIPIO',\n",
              "       'SEQUENCIA_LOGRADOUROS', 'NUMERO_LOGRADOURO', 'TIPO_LOGRADOURO',\n",
              "       'NOME_LOGRADOURO', 'TIPO_LOGRADOURO_ANTERIOR',\n",
              "       'NOME_LOGRADOURO_ANTERIOR', 'NUMERO_BAIRRO', 'NOME_BAIRRO',\n",
              "       'TIPO_BAIRRO', 'DESCRICAO_TIPO_BAIRRO', 'NUMERO_IMOVEL',\n",
              "       'NUMERO_IMOVEL_PROXIMO'],\n",
              "      dtype='object')"
            ]
          },
          "metadata": {},
          "execution_count": 760
        }
      ]
    },
    {
      "cell_type": "code",
      "source": [
        "frames_log = [df_log_2011, df_log_2012, df_log_2013, df_log_2014, df_log_2015, df_log_2016, df_log_2017, df_log_2018, df_log_2019, df_log_2020, df_log_2021]"
      ],
      "metadata": {
        "id": "KCym3B3cptnY"
      },
      "execution_count": null,
      "outputs": []
    },
    {
      "cell_type": "code",
      "source": [
        "df_log = pd.concat(frames_log)\n",
        "df_log.shape"
      ],
      "metadata": {
        "colab": {
          "base_uri": "https://localhost:8080/"
        },
        "id": "ZyutZu0xqCP-",
        "outputId": "c2b8ee1a-091b-4965-efc4-4a2b8fd92dad"
      },
      "execution_count": null,
      "outputs": [
        {
          "output_type": "execute_result",
          "data": {
            "text/plain": [
              "(192050, 16)"
            ]
          },
          "metadata": {},
          "execution_count": 762
        }
      ]
    },
    {
      "cell_type": "code",
      "source": [
        "df_log.columns"
      ],
      "metadata": {
        "colab": {
          "base_uri": "https://localhost:8080/"
        },
        "id": "rCV_wc5FRCw4",
        "outputId": "c49a9abc-3d45-46a8-d5f3-ccac5680c65d"
      },
      "execution_count": null,
      "outputs": [
        {
          "output_type": "execute_result",
          "data": {
            "text/plain": [
              "Index(['NUMERO_BOLETIM', 'DATA_BOLETIM', 'NUMERO_MUNICIPIO', 'NOME_MUNICIPIO',\n",
              "       'SEQUENCIA_LOGRADOUROS', 'NUMERO_LOGRADOURO', 'TIPO_LOGRADOURO',\n",
              "       'NOME_LOGRADOURO', 'TIPO_LOGRADOURO_ANTERIOR',\n",
              "       'NOME_LOGRADOURO_ANTERIOR', 'NUMERO_BAIRRO', 'NOME_BAIRRO',\n",
              "       'TIPO_BAIRRO', 'DESCRICAO_TIPO_BAIRRO', 'NUMERO_IMOVEL',\n",
              "       'NUMERO_IMOVEL_PROXIMO'],\n",
              "      dtype='object')"
            ]
          },
          "metadata": {},
          "execution_count": 763
        }
      ]
    },
    {
      "cell_type": "markdown",
      "source": [
        "#Fazendo merge dos dataframes"
      ],
      "metadata": {
        "id": "DPRyf68RrGCg"
      }
    },
    {
      "cell_type": "code",
      "source": [
        "df = pd.merge(df_bol, df_log, how = 'inner', on = 'NUMERO_BOLETIM')"
      ],
      "metadata": {
        "id": "wZSDQC6sq_Z_"
      },
      "execution_count": null,
      "outputs": []
    },
    {
      "cell_type": "code",
      "source": [
        "df.shape"
      ],
      "metadata": {
        "colab": {
          "base_uri": "https://localhost:8080/"
        },
        "id": "0urkGXCSrZZP",
        "outputId": "c2223ae5-c359-4130-d4ee-414090885522"
      },
      "execution_count": null,
      "outputs": [
        {
          "output_type": "execute_result",
          "data": {
            "text/plain": [
              "(193021, 38)"
            ]
          },
          "metadata": {},
          "execution_count": 648
        }
      ]
    },
    {
      "cell_type": "code",
      "source": [
        "df.columns"
      ],
      "metadata": {
        "colab": {
          "base_uri": "https://localhost:8080/"
        },
        "id": "mKDk4oB0re5O",
        "outputId": "4a03a744-2d15-49c5-a6de-20a2fcbe83d3"
      },
      "execution_count": null,
      "outputs": [
        {
          "output_type": "execute_result",
          "data": {
            "text/plain": [
              "Index(['NUMERO_BOLETIM', 'DATA_HORA_BOLETIM', 'DATA_INCLUSAO', 'TIPO_ACIDENTE',\n",
              "       'DESC_TIPO_ACIDENTE', 'COD_TEMPO', 'DESC_TEMPO', 'COD_PAVIMENTO',\n",
              "       'PAVIMENTO', 'COD_REGIONAL', 'DESC_REGIONAL', 'ORIGEM_BOLETIM',\n",
              "       'LOCAL_SINALIZADO', 'VELOCIDADE_PERMITIDA', 'COORDENADA_X',\n",
              "       'COORDENADA_Y', 'HORA_INFORMADA', 'INDICADOR_FATALIDADE', 'VALOR_UPS',\n",
              "       'DESC_UPS', 'DATA_ALTERACAO_SMSA', 'VALOR_UPS_ANTIGA',\n",
              "       'DESC_UPS_ANTIGA', 'DATA_BOLETIM', 'NUMERO_MUNICIPIO', 'NOME_MUNICIPIO',\n",
              "       'SEQUENCIA_LOGRADOUROS', 'NUMERO_LOGRADOURO', 'TIPO_LOGRADOURO',\n",
              "       'NOME_LOGRADOURO', 'TIPO_LOGRADOURO_ANTERIOR',\n",
              "       'NOME_LOGRADOURO_ANTERIOR', 'NUMERO_BAIRRO', 'NOME_BAIRRO',\n",
              "       'TIPO_BAIRRO', 'DESCRICAO_TIPO_BAIRRO', 'NUMERO_IMOVEL',\n",
              "       'NUMERO_IMOVEL_PROXIMO'],\n",
              "      dtype='object')"
            ]
          },
          "metadata": {},
          "execution_count": 649
        }
      ]
    },
    {
      "cell_type": "markdown",
      "source": [
        "# Deletando colunas sem informação relevante"
      ],
      "metadata": {
        "id": "oa2v1GP4sf6-"
      }
    },
    {
      "cell_type": "code",
      "source": [
        "df = df.drop(columns=['TIPO_LOGRADOURO_ANTERIOR', 'NOME_LOGRADOURO_ANTERIOR', 'NUMERO_IMOVEL_PROXIMO', 'VELOCIDADE_PERMITIDA', 'DATA_ALTERACAO_SMSA', 'VALOR_UPS_ANTIGA', 'DESC_UPS_ANTIGA', 'HORA_INFORMADA','DATA_BOLETIM','NOME_LOGRADOURO_ANTERIOR'])"
      ],
      "metadata": {
        "id": "vL-jpejxryjm"
      },
      "execution_count": null,
      "outputs": []
    },
    {
      "cell_type": "code",
      "source": [
        "df.shape"
      ],
      "metadata": {
        "colab": {
          "base_uri": "https://localhost:8080/"
        },
        "id": "S-dr3RsnsRdG",
        "outputId": "d45587b8-7182-4961-996b-149b4301eb4e"
      },
      "execution_count": null,
      "outputs": [
        {
          "output_type": "execute_result",
          "data": {
            "text/plain": [
              "(193021, 29)"
            ]
          },
          "metadata": {},
          "execution_count": 651
        }
      ]
    },
    {
      "cell_type": "code",
      "source": [
        "df.info()"
      ],
      "metadata": {
        "colab": {
          "base_uri": "https://localhost:8080/"
        },
        "id": "Ct6oa_XPsWbm",
        "outputId": "92c19b0c-eae3-4beb-f5c7-4ed1549f17fb"
      },
      "execution_count": null,
      "outputs": [
        {
          "output_type": "stream",
          "name": "stdout",
          "text": [
            "<class 'pandas.core.frame.DataFrame'>\n",
            "Int64Index: 193021 entries, 0 to 193020\n",
            "Data columns (total 29 columns):\n",
            " #   Column                 Non-Null Count   Dtype  \n",
            "---  ------                 --------------   -----  \n",
            " 0   NUMERO_BOLETIM         193021 non-null  object \n",
            " 1   DATA_HORA_BOLETIM      193021 non-null  object \n",
            " 2   DATA_INCLUSAO          193021 non-null  object \n",
            " 3   TIPO_ACIDENTE          193021 non-null  object \n",
            " 4   DESC_TIPO_ACIDENTE     193021 non-null  object \n",
            " 5   COD_TEMPO              193021 non-null  int64  \n",
            " 6   DESC_TEMPO             193021 non-null  object \n",
            " 7   COD_PAVIMENTO          193021 non-null  int64  \n",
            " 8   PAVIMENTO              193021 non-null  object \n",
            " 9   COD_REGIONAL           193021 non-null  int64  \n",
            " 10  DESC_REGIONAL          188623 non-null  object \n",
            " 11  ORIGEM_BOLETIM         193021 non-null  object \n",
            " 12  LOCAL_SINALIZADO       193021 non-null  object \n",
            " 13  COORDENADA_X           193021 non-null  float64\n",
            " 14  COORDENADA_Y           193021 non-null  float64\n",
            " 15  INDICADOR_FATALIDADE   193021 non-null  object \n",
            " 16  VALOR_UPS              193021 non-null  int64  \n",
            " 17  DESC_UPS               193021 non-null  object \n",
            " 18  NUMERO_MUNICIPIO       193021 non-null  int64  \n",
            " 19  NOME_MUNICIPIO         193021 non-null  object \n",
            " 20  SEQUENCIA_LOGRADOUROS  193021 non-null  int64  \n",
            " 21  NUMERO_LOGRADOURO      193021 non-null  int64  \n",
            " 22  TIPO_LOGRADOURO        193021 non-null  object \n",
            " 23  NOME_LOGRADOURO        193021 non-null  object \n",
            " 24  NUMERO_BAIRRO          193021 non-null  int64  \n",
            " 25  NOME_BAIRRO            193021 non-null  object \n",
            " 26  TIPO_BAIRRO            193021 non-null  object \n",
            " 27  DESCRICAO_TIPO_BAIRRO  193021 non-null  object \n",
            " 28  NUMERO_IMOVEL          193021 non-null  object \n",
            "dtypes: float64(2), int64(8), object(19)\n",
            "memory usage: 44.2+ MB\n"
          ]
        }
      ]
    },
    {
      "cell_type": "markdown",
      "source": [
        "# Convertendo campos de data e hora para datetime"
      ],
      "metadata": {
        "id": "xyWvLNEkulBC"
      }
    },
    {
      "cell_type": "code",
      "source": [
        "df['DATA_HORA_BOLETIM'] = pd.to_datetime(df['DATA_HORA_BOLETIM'])\n",
        "df['DATA_INCLUSAO'] = pd.to_datetime(df['DATA_INCLUSAO'])\n",
        "df.info()"
      ],
      "metadata": {
        "colab": {
          "base_uri": "https://localhost:8080/"
        },
        "id": "U_D-2ybCufDE",
        "outputId": "a6bddbcd-fbd5-40c4-a79f-303cf77ca1a9"
      },
      "execution_count": null,
      "outputs": [
        {
          "output_type": "stream",
          "name": "stdout",
          "text": [
            "<class 'pandas.core.frame.DataFrame'>\n",
            "Int64Index: 193021 entries, 0 to 193020\n",
            "Data columns (total 29 columns):\n",
            " #   Column                 Non-Null Count   Dtype         \n",
            "---  ------                 --------------   -----         \n",
            " 0   NUMERO_BOLETIM         193021 non-null  object        \n",
            " 1   DATA_HORA_BOLETIM      193021 non-null  datetime64[ns]\n",
            " 2   DATA_INCLUSAO          193021 non-null  datetime64[ns]\n",
            " 3   TIPO_ACIDENTE          193021 non-null  object        \n",
            " 4   DESC_TIPO_ACIDENTE     193021 non-null  object        \n",
            " 5   COD_TEMPO              193021 non-null  int64         \n",
            " 6   DESC_TEMPO             193021 non-null  object        \n",
            " 7   COD_PAVIMENTO          193021 non-null  int64         \n",
            " 8   PAVIMENTO              193021 non-null  object        \n",
            " 9   COD_REGIONAL           193021 non-null  int64         \n",
            " 10  DESC_REGIONAL          188623 non-null  object        \n",
            " 11  ORIGEM_BOLETIM         193021 non-null  object        \n",
            " 12  LOCAL_SINALIZADO       193021 non-null  object        \n",
            " 13  COORDENADA_X           193021 non-null  float64       \n",
            " 14  COORDENADA_Y           193021 non-null  float64       \n",
            " 15  INDICADOR_FATALIDADE   193021 non-null  object        \n",
            " 16  VALOR_UPS              193021 non-null  int64         \n",
            " 17  DESC_UPS               193021 non-null  object        \n",
            " 18  NUMERO_MUNICIPIO       193021 non-null  int64         \n",
            " 19  NOME_MUNICIPIO         193021 non-null  object        \n",
            " 20  SEQUENCIA_LOGRADOUROS  193021 non-null  int64         \n",
            " 21  NUMERO_LOGRADOURO      193021 non-null  int64         \n",
            " 22  TIPO_LOGRADOURO        193021 non-null  object        \n",
            " 23  NOME_LOGRADOURO        193021 non-null  object        \n",
            " 24  NUMERO_BAIRRO          193021 non-null  int64         \n",
            " 25  NOME_BAIRRO            193021 non-null  object        \n",
            " 26  TIPO_BAIRRO            193021 non-null  object        \n",
            " 27  DESCRICAO_TIPO_BAIRRO  193021 non-null  object        \n",
            " 28  NUMERO_IMOVEL          193021 non-null  object        \n",
            "dtypes: datetime64[ns](2), float64(2), int64(8), object(17)\n",
            "memory usage: 44.2+ MB\n"
          ]
        }
      ]
    },
    {
      "cell_type": "code",
      "source": [
        "df.head()"
      ],
      "metadata": {
        "colab": {
          "base_uri": "https://localhost:8080/"
        },
        "id": "LIxShtHeu4b7",
        "outputId": "20ce1047-8a5e-4431-c46a-ee7d856ce303"
      },
      "execution_count": null,
      "outputs": [
        {
          "output_type": "execute_result",
          "data": {
            "text/plain": [
              "  NUMERO_BOLETIM   DATA_HORA_BOLETIM DATA_INCLUSAO TIPO_ACIDENTE  \\\n",
              "0              9 2011-12-31 21:35:00    2012-02-14        H06002   \n",
              "1            161 2011-12-31 22:16:00    2012-02-14        H08002   \n",
              "2            198 2011-01-01 00:50:00    2011-10-02        H01002   \n",
              "3            223 2011-01-01 00:20:00    2011-10-02        H04000   \n",
              "4            246 2011-12-31 23:39:00    2012-09-01        H02002   \n",
              "\n",
              "                                  DESC_TIPO_ACIDENTE  COD_TEMPO  \\\n",
              "0  ATROPELAMENTO DE PESSOA SEM VITIMA FATAL      ...          0   \n",
              "1  CHOQUE MECANICO COM VITIMA                    ...          1   \n",
              "2  ABALROAMENTO COM VITIMA                       ...          1   \n",
              "3  QUEDA DE PESSOA DE VEICULO                    ...          1   \n",
              "4  CAPOTAMENTO/TOMBAMENTO COM VITIMA             ...          0   \n",
              "\n",
              "        DESC_TEMPO  COD_PAVIMENTO        PAVIMENTO  COD_REGIONAL  ...  \\\n",
              "0  NAO INFORMADO                0  NAO INFORMADO              26  ...   \n",
              "1  BOM                          1  ASFALTO                    18  ...   \n",
              "2  BOM                          1  ASFALTO                    19  ...   \n",
              "3  BOM                          1  ASFALTO                    20  ...   \n",
              "4  NAO INFORMADO                0  NAO INFORMADO              20  ...   \n",
              "\n",
              "                   NOME_MUNICIPIO SEQUENCIA_LOGRADOUROS NUMERO_LOGRADOURO  \\\n",
              "0  BELO HORIZONTE                                     1              7416   \n",
              "1  BELO HORIZONTE                                     1             10320   \n",
              "2  BELO HORIZONTE                                     1             17228   \n",
              "3  BELO HORIZONTE                                     1             45395   \n",
              "4  BELO HORIZONTE                                     1              3761   \n",
              "\n",
              "   TIPO_LOGRADOURO                                    NOME_LOGRADOURO  \\\n",
              "0              RUA  JOSE FELIX MARTINS                            ...   \n",
              "1              ROD  ANEL RODOVIARIO CELSO MELLO AZEVEDO           ...   \n",
              "2              AVE  DO CONTORNO                                   ...   \n",
              "3              AVE  MEM DE SA                                     ...   \n",
              "4              AVE  DOS ANDRADAS                                  ...   \n",
              "\n",
              "  NUMERO_BAIRRO                                        NOME_BAIRRO  \\\n",
              "0           719  MANTIQUEIRA                                   ...   \n",
              "1           610  DAS INDUSTRIAS                                ...   \n",
              "2           617  BARRO PRETO                                   ...   \n",
              "3          1307  CONEGO PINHEIRO PRIMEIRA SECAO                ...   \n",
              "4           765  SANTA EFIGENIA                                ...   \n",
              "\n",
              "  TIPO_BAIRRO           DESCRICAO_TIPO_BAIRRO NUMERO_IMOVEL  \n",
              "0          B   BAIRRO                                   915  \n",
              "1          B   BAIRRO                                   S/N  \n",
              "2          B   BAIRRO                                 10660  \n",
              "3          B   BAIRRO                                   199  \n",
              "4          B   BAIRRO                                   s/n  \n",
              "\n",
              "[5 rows x 29 columns]"
            ],
            "text/html": [
              "\n",
              "  <div id=\"df-b0851f15-03e7-4a99-85e9-ae29bb2432c5\">\n",
              "    <div class=\"colab-df-container\">\n",
              "      <div>\n",
              "<style scoped>\n",
              "    .dataframe tbody tr th:only-of-type {\n",
              "        vertical-align: middle;\n",
              "    }\n",
              "\n",
              "    .dataframe tbody tr th {\n",
              "        vertical-align: top;\n",
              "    }\n",
              "\n",
              "    .dataframe thead th {\n",
              "        text-align: right;\n",
              "    }\n",
              "</style>\n",
              "<table border=\"1\" class=\"dataframe\">\n",
              "  <thead>\n",
              "    <tr style=\"text-align: right;\">\n",
              "      <th></th>\n",
              "      <th>NUMERO_BOLETIM</th>\n",
              "      <th>DATA_HORA_BOLETIM</th>\n",
              "      <th>DATA_INCLUSAO</th>\n",
              "      <th>TIPO_ACIDENTE</th>\n",
              "      <th>DESC_TIPO_ACIDENTE</th>\n",
              "      <th>COD_TEMPO</th>\n",
              "      <th>DESC_TEMPO</th>\n",
              "      <th>COD_PAVIMENTO</th>\n",
              "      <th>PAVIMENTO</th>\n",
              "      <th>COD_REGIONAL</th>\n",
              "      <th>...</th>\n",
              "      <th>NOME_MUNICIPIO</th>\n",
              "      <th>SEQUENCIA_LOGRADOUROS</th>\n",
              "      <th>NUMERO_LOGRADOURO</th>\n",
              "      <th>TIPO_LOGRADOURO</th>\n",
              "      <th>NOME_LOGRADOURO</th>\n",
              "      <th>NUMERO_BAIRRO</th>\n",
              "      <th>NOME_BAIRRO</th>\n",
              "      <th>TIPO_BAIRRO</th>\n",
              "      <th>DESCRICAO_TIPO_BAIRRO</th>\n",
              "      <th>NUMERO_IMOVEL</th>\n",
              "    </tr>\n",
              "  </thead>\n",
              "  <tbody>\n",
              "    <tr>\n",
              "      <th>0</th>\n",
              "      <td>9</td>\n",
              "      <td>2011-12-31 21:35:00</td>\n",
              "      <td>2012-02-14</td>\n",
              "      <td>H06002</td>\n",
              "      <td>ATROPELAMENTO DE PESSOA SEM VITIMA FATAL      ...</td>\n",
              "      <td>0</td>\n",
              "      <td>NAO INFORMADO</td>\n",
              "      <td>0</td>\n",
              "      <td>NAO INFORMADO</td>\n",
              "      <td>26</td>\n",
              "      <td>...</td>\n",
              "      <td>BELO HORIZONTE</td>\n",
              "      <td>1</td>\n",
              "      <td>7416</td>\n",
              "      <td>RUA</td>\n",
              "      <td>JOSE FELIX MARTINS                            ...</td>\n",
              "      <td>719</td>\n",
              "      <td>MANTIQUEIRA                                   ...</td>\n",
              "      <td>B</td>\n",
              "      <td>BAIRRO</td>\n",
              "      <td>915</td>\n",
              "    </tr>\n",
              "    <tr>\n",
              "      <th>1</th>\n",
              "      <td>161</td>\n",
              "      <td>2011-12-31 22:16:00</td>\n",
              "      <td>2012-02-14</td>\n",
              "      <td>H08002</td>\n",
              "      <td>CHOQUE MECANICO COM VITIMA                    ...</td>\n",
              "      <td>1</td>\n",
              "      <td>BOM</td>\n",
              "      <td>1</td>\n",
              "      <td>ASFALTO</td>\n",
              "      <td>18</td>\n",
              "      <td>...</td>\n",
              "      <td>BELO HORIZONTE</td>\n",
              "      <td>1</td>\n",
              "      <td>10320</td>\n",
              "      <td>ROD</td>\n",
              "      <td>ANEL RODOVIARIO CELSO MELLO AZEVEDO           ...</td>\n",
              "      <td>610</td>\n",
              "      <td>DAS INDUSTRIAS                                ...</td>\n",
              "      <td>B</td>\n",
              "      <td>BAIRRO</td>\n",
              "      <td>S/N</td>\n",
              "    </tr>\n",
              "    <tr>\n",
              "      <th>2</th>\n",
              "      <td>198</td>\n",
              "      <td>2011-01-01 00:50:00</td>\n",
              "      <td>2011-10-02</td>\n",
              "      <td>H01002</td>\n",
              "      <td>ABALROAMENTO COM VITIMA                       ...</td>\n",
              "      <td>1</td>\n",
              "      <td>BOM</td>\n",
              "      <td>1</td>\n",
              "      <td>ASFALTO</td>\n",
              "      <td>19</td>\n",
              "      <td>...</td>\n",
              "      <td>BELO HORIZONTE</td>\n",
              "      <td>1</td>\n",
              "      <td>17228</td>\n",
              "      <td>AVE</td>\n",
              "      <td>DO CONTORNO                                   ...</td>\n",
              "      <td>617</td>\n",
              "      <td>BARRO PRETO                                   ...</td>\n",
              "      <td>B</td>\n",
              "      <td>BAIRRO</td>\n",
              "      <td>10660</td>\n",
              "    </tr>\n",
              "    <tr>\n",
              "      <th>3</th>\n",
              "      <td>223</td>\n",
              "      <td>2011-01-01 00:20:00</td>\n",
              "      <td>2011-10-02</td>\n",
              "      <td>H04000</td>\n",
              "      <td>QUEDA DE PESSOA DE VEICULO                    ...</td>\n",
              "      <td>1</td>\n",
              "      <td>BOM</td>\n",
              "      <td>1</td>\n",
              "      <td>ASFALTO</td>\n",
              "      <td>20</td>\n",
              "      <td>...</td>\n",
              "      <td>BELO HORIZONTE</td>\n",
              "      <td>1</td>\n",
              "      <td>45395</td>\n",
              "      <td>AVE</td>\n",
              "      <td>MEM DE SA                                     ...</td>\n",
              "      <td>1307</td>\n",
              "      <td>CONEGO PINHEIRO PRIMEIRA SECAO                ...</td>\n",
              "      <td>B</td>\n",
              "      <td>BAIRRO</td>\n",
              "      <td>199</td>\n",
              "    </tr>\n",
              "    <tr>\n",
              "      <th>4</th>\n",
              "      <td>246</td>\n",
              "      <td>2011-12-31 23:39:00</td>\n",
              "      <td>2012-09-01</td>\n",
              "      <td>H02002</td>\n",
              "      <td>CAPOTAMENTO/TOMBAMENTO COM VITIMA             ...</td>\n",
              "      <td>0</td>\n",
              "      <td>NAO INFORMADO</td>\n",
              "      <td>0</td>\n",
              "      <td>NAO INFORMADO</td>\n",
              "      <td>20</td>\n",
              "      <td>...</td>\n",
              "      <td>BELO HORIZONTE</td>\n",
              "      <td>1</td>\n",
              "      <td>3761</td>\n",
              "      <td>AVE</td>\n",
              "      <td>DOS ANDRADAS                                  ...</td>\n",
              "      <td>765</td>\n",
              "      <td>SANTA EFIGENIA                                ...</td>\n",
              "      <td>B</td>\n",
              "      <td>BAIRRO</td>\n",
              "      <td>s/n</td>\n",
              "    </tr>\n",
              "  </tbody>\n",
              "</table>\n",
              "<p>5 rows × 29 columns</p>\n",
              "</div>\n",
              "      <button class=\"colab-df-convert\" onclick=\"convertToInteractive('df-b0851f15-03e7-4a99-85e9-ae29bb2432c5')\"\n",
              "              title=\"Convert this dataframe to an interactive table.\"\n",
              "              style=\"display:none;\">\n",
              "        \n",
              "  <svg xmlns=\"http://www.w3.org/2000/svg\" height=\"24px\"viewBox=\"0 0 24 24\"\n",
              "       width=\"24px\">\n",
              "    <path d=\"M0 0h24v24H0V0z\" fill=\"none\"/>\n",
              "    <path d=\"M18.56 5.44l.94 2.06.94-2.06 2.06-.94-2.06-.94-.94-2.06-.94 2.06-2.06.94zm-11 1L8.5 8.5l.94-2.06 2.06-.94-2.06-.94L8.5 2.5l-.94 2.06-2.06.94zm10 10l.94 2.06.94-2.06 2.06-.94-2.06-.94-.94-2.06-.94 2.06-2.06.94z\"/><path d=\"M17.41 7.96l-1.37-1.37c-.4-.4-.92-.59-1.43-.59-.52 0-1.04.2-1.43.59L10.3 9.45l-7.72 7.72c-.78.78-.78 2.05 0 2.83L4 21.41c.39.39.9.59 1.41.59.51 0 1.02-.2 1.41-.59l7.78-7.78 2.81-2.81c.8-.78.8-2.07 0-2.86zM5.41 20L4 18.59l7.72-7.72 1.47 1.35L5.41 20z\"/>\n",
              "  </svg>\n",
              "      </button>\n",
              "      \n",
              "  <style>\n",
              "    .colab-df-container {\n",
              "      display:flex;\n",
              "      flex-wrap:wrap;\n",
              "      gap: 12px;\n",
              "    }\n",
              "\n",
              "    .colab-df-convert {\n",
              "      background-color: #E8F0FE;\n",
              "      border: none;\n",
              "      border-radius: 50%;\n",
              "      cursor: pointer;\n",
              "      display: none;\n",
              "      fill: #1967D2;\n",
              "      height: 32px;\n",
              "      padding: 0 0 0 0;\n",
              "      width: 32px;\n",
              "    }\n",
              "\n",
              "    .colab-df-convert:hover {\n",
              "      background-color: #E2EBFA;\n",
              "      box-shadow: 0px 1px 2px rgba(60, 64, 67, 0.3), 0px 1px 3px 1px rgba(60, 64, 67, 0.15);\n",
              "      fill: #174EA6;\n",
              "    }\n",
              "\n",
              "    [theme=dark] .colab-df-convert {\n",
              "      background-color: #3B4455;\n",
              "      fill: #D2E3FC;\n",
              "    }\n",
              "\n",
              "    [theme=dark] .colab-df-convert:hover {\n",
              "      background-color: #434B5C;\n",
              "      box-shadow: 0px 1px 3px 1px rgba(0, 0, 0, 0.15);\n",
              "      filter: drop-shadow(0px 1px 2px rgba(0, 0, 0, 0.3));\n",
              "      fill: #FFFFFF;\n",
              "    }\n",
              "  </style>\n",
              "\n",
              "      <script>\n",
              "        const buttonEl =\n",
              "          document.querySelector('#df-b0851f15-03e7-4a99-85e9-ae29bb2432c5 button.colab-df-convert');\n",
              "        buttonEl.style.display =\n",
              "          google.colab.kernel.accessAllowed ? 'block' : 'none';\n",
              "\n",
              "        async function convertToInteractive(key) {\n",
              "          const element = document.querySelector('#df-b0851f15-03e7-4a99-85e9-ae29bb2432c5');\n",
              "          const dataTable =\n",
              "            await google.colab.kernel.invokeFunction('convertToInteractive',\n",
              "                                                     [key], {});\n",
              "          if (!dataTable) return;\n",
              "\n",
              "          const docLinkHtml = 'Like what you see? Visit the ' +\n",
              "            '<a target=\"_blank\" href=https://colab.research.google.com/notebooks/data_table.ipynb>data table notebook</a>'\n",
              "            + ' to learn more about interactive tables.';\n",
              "          element.innerHTML = '';\n",
              "          dataTable['output_type'] = 'display_data';\n",
              "          await google.colab.output.renderOutput(dataTable, element);\n",
              "          const docLink = document.createElement('div');\n",
              "          docLink.innerHTML = docLinkHtml;\n",
              "          element.appendChild(docLink);\n",
              "        }\n",
              "      </script>\n",
              "    </div>\n",
              "  </div>\n",
              "  "
            ]
          },
          "metadata": {},
          "execution_count": 654
        }
      ]
    },
    {
      "cell_type": "markdown",
      "source": [
        "# Verificando dados não informados ou faltantes"
      ],
      "metadata": {
        "id": "3lVzONzMvh8T"
      }
    },
    {
      "cell_type": "code",
      "source": [
        "df.groupby(['DESC_TEMPO']).count()['NUMERO_BOLETIM']"
      ],
      "metadata": {
        "colab": {
          "base_uri": "https://localhost:8080/"
        },
        "id": "2BZJ1IF1vhWT",
        "outputId": "37cd5616-6cbd-4599-ac03-05df85de7568"
      },
      "execution_count": null,
      "outputs": [
        {
          "output_type": "execute_result",
          "data": {
            "text/plain": [
              "DESC_TEMPO\n",
              "BOM                 57332\n",
              "CHUVA                4532\n",
              "NAO INFORMADO      128677\n",
              "NEBLINA                55\n",
              "NUBLADO              2425\n",
              "Name: NUMERO_BOLETIM, dtype: int64"
            ]
          },
          "metadata": {},
          "execution_count": 655
        }
      ]
    },
    {
      "cell_type": "code",
      "source": [
        "df.groupby(['COD_TEMPO']).count()['NUMERO_BOLETIM']"
      ],
      "metadata": {
        "colab": {
          "base_uri": "https://localhost:8080/"
        },
        "id": "Eoxvu9Z59XNM",
        "outputId": "cac08ecf-02fa-4029-edce-ca060b7a581c"
      },
      "execution_count": null,
      "outputs": [
        {
          "output_type": "execute_result",
          "data": {
            "text/plain": [
              "COD_TEMPO\n",
              "0    128677\n",
              "1     57332\n",
              "2      4532\n",
              "3        55\n",
              "4      2425\n",
              "Name: NUMERO_BOLETIM, dtype: int64"
            ]
          },
          "metadata": {},
          "execution_count": 656
        }
      ]
    },
    {
      "cell_type": "code",
      "source": [
        "df.groupby(['PAVIMENTO']).count()['NUMERO_BOLETIM']"
      ],
      "metadata": {
        "colab": {
          "base_uri": "https://localhost:8080/"
        },
        "id": "YH8asYDkCdy5",
        "outputId": "533348a9-adbf-4085-9e63-d884b3104d4f"
      },
      "execution_count": null,
      "outputs": [
        {
          "output_type": "execute_result",
          "data": {
            "text/plain": [
              "PAVIMENTO\n",
              "ASFALTO             65668\n",
              "CALCAMENTO            445\n",
              "CONCRETO              330\n",
              "NAO INFORMADO      126568\n",
              "TERRA                  10\n",
              "Name: NUMERO_BOLETIM, dtype: int64"
            ]
          },
          "metadata": {},
          "execution_count": 657
        }
      ]
    },
    {
      "cell_type": "code",
      "source": [
        "df.groupby(['COD_PAVIMENTO']).count()['NUMERO_BOLETIM']"
      ],
      "metadata": {
        "colab": {
          "base_uri": "https://localhost:8080/"
        },
        "id": "5HBPWLpWChSv",
        "outputId": "e07b8e6a-ab46-43a4-b7bd-9eb3f841b3fb"
      },
      "execution_count": null,
      "outputs": [
        {
          "output_type": "execute_result",
          "data": {
            "text/plain": [
              "COD_PAVIMENTO\n",
              "0    126568\n",
              "1     65668\n",
              "2       330\n",
              "3        10\n",
              "4       445\n",
              "Name: NUMERO_BOLETIM, dtype: int64"
            ]
          },
          "metadata": {},
          "execution_count": 658
        }
      ]
    },
    {
      "cell_type": "code",
      "source": [
        "df.groupby(['COD_REGIONAL']).count()['NUMERO_BOLETIM']"
      ],
      "metadata": {
        "colab": {
          "base_uri": "https://localhost:8080/"
        },
        "id": "Eqc8tquPYhSo",
        "outputId": "b211c73f-cef0-4c3d-86dd-a6762011037e"
      },
      "execution_count": null,
      "outputs": [
        {
          "output_type": "execute_result",
          "data": {
            "text/plain": [
              "COD_REGIONAL\n",
              "0      4398\n",
              "18    15725\n",
              "19    40922\n",
              "20    16941\n",
              "21    19655\n",
              "22    25250\n",
              "23    14449\n",
              "24    19656\n",
              "25    22150\n",
              "26    13875\n",
              "Name: NUMERO_BOLETIM, dtype: int64"
            ]
          },
          "metadata": {},
          "execution_count": 659
        }
      ]
    },
    {
      "cell_type": "code",
      "source": [
        "index_names = df[(df['COD_TEMPO'] == 0) | (df['COD_PAVIMENTO'] == 0) | (df['COD_REGIONAL'] == 0) ].index"
      ],
      "metadata": {
        "id": "nVhk-vgp-QH8"
      },
      "execution_count": null,
      "outputs": []
    },
    {
      "cell_type": "code",
      "source": [
        "index_names"
      ],
      "metadata": {
        "colab": {
          "base_uri": "https://localhost:8080/"
        },
        "id": "prp2KLp5-Z9j",
        "outputId": "1e529f00-a3ba-47c7-b4c4-2e59e7bf84d8"
      },
      "execution_count": null,
      "outputs": [
        {
          "output_type": "execute_result",
          "data": {
            "text/plain": [
              "Int64Index([     0,      4,      5,      8,      9,     10,     11,     12,\n",
              "                13,     25,\n",
              "            ...\n",
              "            192999, 193000, 193006, 193007, 193008, 193012, 193016, 193017,\n",
              "            193018, 193019],\n",
              "           dtype='int64', length=131022)"
            ]
          },
          "metadata": {},
          "execution_count": 661
        }
      ]
    },
    {
      "cell_type": "code",
      "source": [
        "df.drop(index_names, inplace = True)"
      ],
      "metadata": {
        "id": "myeAgpaP-y2D"
      },
      "execution_count": null,
      "outputs": []
    },
    {
      "cell_type": "code",
      "source": [
        "df.shape"
      ],
      "metadata": {
        "colab": {
          "base_uri": "https://localhost:8080/"
        },
        "id": "PNLlEs-h_yHx",
        "outputId": "96e5cf88-2941-4800-fd16-fdeb091c8405"
      },
      "execution_count": null,
      "outputs": [
        {
          "output_type": "execute_result",
          "data": {
            "text/plain": [
              "(61999, 29)"
            ]
          },
          "metadata": {},
          "execution_count": 663
        }
      ]
    },
    {
      "cell_type": "code",
      "source": [
        "df.groupby(['DESC_TEMPO']).count()['NUMERO_BOLETIM']"
      ],
      "metadata": {
        "colab": {
          "base_uri": "https://localhost:8080/"
        },
        "id": "xQ081RgtAcux",
        "outputId": "20b8b4e0-ec95-4634-ce0b-b50dc70ac6ff"
      },
      "execution_count": null,
      "outputs": [
        {
          "output_type": "execute_result",
          "data": {
            "text/plain": [
              "DESC_TEMPO\n",
              "BOM                55340\n",
              "CHUVA               4301\n",
              "NEBLINA               54\n",
              "NUBLADO             2304\n",
              "Name: NUMERO_BOLETIM, dtype: int64"
            ]
          },
          "metadata": {},
          "execution_count": 664
        }
      ]
    },
    {
      "cell_type": "code",
      "source": [
        "df.groupby(['PAVIMENTO']).count()['NUMERO_BOLETIM']"
      ],
      "metadata": {
        "colab": {
          "base_uri": "https://localhost:8080/"
        },
        "id": "I8uZOklwAgSx",
        "outputId": "748dc8e3-0a9d-4ea2-ccb5-d5ad2ee23094"
      },
      "execution_count": null,
      "outputs": [
        {
          "output_type": "execute_result",
          "data": {
            "text/plain": [
              "PAVIMENTO\n",
              "ASFALTO            61269\n",
              "CALCAMENTO           428\n",
              "CONCRETO             294\n",
              "TERRA                  8\n",
              "Name: NUMERO_BOLETIM, dtype: int64"
            ]
          },
          "metadata": {},
          "execution_count": 665
        }
      ]
    },
    {
      "cell_type": "code",
      "source": [
        "df.groupby(['COD_REGIONAL']).count()['NUMERO_BOLETIM']"
      ],
      "metadata": {
        "colab": {
          "base_uri": "https://localhost:8080/"
        },
        "id": "mls_4AI6Vusr",
        "outputId": "57e3fae3-8fd2-4fbd-c1a9-392e1c49f6c7"
      },
      "execution_count": null,
      "outputs": [
        {
          "output_type": "execute_result",
          "data": {
            "text/plain": [
              "COD_REGIONAL\n",
              "18     5814\n",
              "19    11344\n",
              "20     5258\n",
              "21     6333\n",
              "22     8432\n",
              "23     4898\n",
              "24     6840\n",
              "25     8361\n",
              "26     4719\n",
              "Name: NUMERO_BOLETIM, dtype: int64"
            ]
          },
          "metadata": {},
          "execution_count": 666
        }
      ]
    },
    {
      "cell_type": "code",
      "source": [
        "df.info()"
      ],
      "metadata": {
        "colab": {
          "base_uri": "https://localhost:8080/"
        },
        "id": "c4EOqwY2VrP9",
        "outputId": "7ba811b9-4cac-4c68-a6ad-3f7dbc6c4d09"
      },
      "execution_count": null,
      "outputs": [
        {
          "output_type": "stream",
          "name": "stdout",
          "text": [
            "<class 'pandas.core.frame.DataFrame'>\n",
            "Int64Index: 61999 entries, 1 to 193020\n",
            "Data columns (total 29 columns):\n",
            " #   Column                 Non-Null Count  Dtype         \n",
            "---  ------                 --------------  -----         \n",
            " 0   NUMERO_BOLETIM         61999 non-null  object        \n",
            " 1   DATA_HORA_BOLETIM      61999 non-null  datetime64[ns]\n",
            " 2   DATA_INCLUSAO          61999 non-null  datetime64[ns]\n",
            " 3   TIPO_ACIDENTE          61999 non-null  object        \n",
            " 4   DESC_TIPO_ACIDENTE     61999 non-null  object        \n",
            " 5   COD_TEMPO              61999 non-null  int64         \n",
            " 6   DESC_TEMPO             61999 non-null  object        \n",
            " 7   COD_PAVIMENTO          61999 non-null  int64         \n",
            " 8   PAVIMENTO              61999 non-null  object        \n",
            " 9   COD_REGIONAL           61999 non-null  int64         \n",
            " 10  DESC_REGIONAL          61999 non-null  object        \n",
            " 11  ORIGEM_BOLETIM         61999 non-null  object        \n",
            " 12  LOCAL_SINALIZADO       61999 non-null  object        \n",
            " 13  COORDENADA_X           61999 non-null  float64       \n",
            " 14  COORDENADA_Y           61999 non-null  float64       \n",
            " 15  INDICADOR_FATALIDADE   61999 non-null  object        \n",
            " 16  VALOR_UPS              61999 non-null  int64         \n",
            " 17  DESC_UPS               61999 non-null  object        \n",
            " 18  NUMERO_MUNICIPIO       61999 non-null  int64         \n",
            " 19  NOME_MUNICIPIO         61999 non-null  object        \n",
            " 20  SEQUENCIA_LOGRADOUROS  61999 non-null  int64         \n",
            " 21  NUMERO_LOGRADOURO      61999 non-null  int64         \n",
            " 22  TIPO_LOGRADOURO        61999 non-null  object        \n",
            " 23  NOME_LOGRADOURO        61999 non-null  object        \n",
            " 24  NUMERO_BAIRRO          61999 non-null  int64         \n",
            " 25  NOME_BAIRRO            61999 non-null  object        \n",
            " 26  TIPO_BAIRRO            61999 non-null  object        \n",
            " 27  DESCRICAO_TIPO_BAIRRO  61999 non-null  object        \n",
            " 28  NUMERO_IMOVEL          61999 non-null  object        \n",
            "dtypes: datetime64[ns](2), float64(2), int64(8), object(17)\n",
            "memory usage: 14.2+ MB\n"
          ]
        }
      ]
    },
    {
      "cell_type": "code",
      "source": [
        "df.shape"
      ],
      "metadata": {
        "id": "nTZW1DApq2RX",
        "outputId": "ca12beae-4f69-4574-fb2b-a5c549552291",
        "colab": {
          "base_uri": "https://localhost:8080/"
        }
      },
      "execution_count": null,
      "outputs": [
        {
          "output_type": "execute_result",
          "data": {
            "text/plain": [
              "(61999, 29)"
            ]
          },
          "metadata": {},
          "execution_count": 765
        }
      ]
    },
    {
      "cell_type": "code",
      "source": [
        "df.head()"
      ],
      "metadata": {
        "colab": {
          "base_uri": "https://localhost:8080/",
          "height": 456
        },
        "id": "1HxFi1ADV28j",
        "outputId": "e728bc9e-4a7a-4583-e1ae-432ad089d5d2"
      },
      "execution_count": null,
      "outputs": [
        {
          "output_type": "execute_result",
          "data": {
            "text/plain": [
              "  NUMERO_BOLETIM   DATA_HORA_BOLETIM DATA_INCLUSAO TIPO_ACIDENTE  \\\n",
              "1            161 2011-12-31 22:16:00    2012-02-14        H08002   \n",
              "2            198 2011-01-01 00:50:00    2011-10-02        H01002   \n",
              "3            223 2011-01-01 00:20:00    2011-10-02        H04000   \n",
              "6            343 2011-12-31 22:27:00    2012-02-14        H01002   \n",
              "7            442 2011-09-07 23:35:00    2011-08-24        H01002   \n",
              "\n",
              "                                  DESC_TIPO_ACIDENTE  COD_TEMPO  \\\n",
              "1  CHOQUE MECANICO COM VITIMA                    ...          1   \n",
              "2  ABALROAMENTO COM VITIMA                       ...          1   \n",
              "3  QUEDA DE PESSOA DE VEICULO                    ...          1   \n",
              "6  ABALROAMENTO COM VITIMA                       ...          1   \n",
              "7  ABALROAMENTO COM VITIMA                       ...          1   \n",
              "\n",
              "        DESC_TEMPO  COD_PAVIMENTO        PAVIMENTO  COD_REGIONAL  ...  \\\n",
              "1  BOM                          1  ASFALTO                    18  ...   \n",
              "2  BOM                          1  ASFALTO                    19  ...   \n",
              "3  BOM                          1  ASFALTO                    20  ...   \n",
              "6  BOM                          1  ASFALTO                    20  ...   \n",
              "7  BOM                          1  ASFALTO                    25  ...   \n",
              "\n",
              "                   NOME_MUNICIPIO SEQUENCIA_LOGRADOUROS NUMERO_LOGRADOURO  \\\n",
              "1  BELO HORIZONTE                                     1             10320   \n",
              "2  BELO HORIZONTE                                     1             17228   \n",
              "3  BELO HORIZONTE                                     1             45395   \n",
              "6  BELO HORIZONTE                                     1             40770   \n",
              "7  BELO HORIZONTE                                     1             54816   \n",
              "\n",
              "   TIPO_LOGRADOURO                                    NOME_LOGRADOURO  \\\n",
              "1              ROD  ANEL RODOVIARIO CELSO MELLO AZEVEDO           ...   \n",
              "2              AVE  DO CONTORNO                                   ...   \n",
              "3              AVE  MEM DE SA                                     ...   \n",
              "6              RUA  LEOPOLDO GOMES                                ...   \n",
              "7              AVE  PORTUGAL                                      ...   \n",
              "\n",
              "  NUMERO_BAIRRO                                        NOME_BAIRRO  \\\n",
              "1           610  DAS INDUSTRIAS                                ...   \n",
              "2           617  BARRO PRETO                                   ...   \n",
              "3          1307  CONEGO PINHEIRO PRIMEIRA SECAO                ...   \n",
              "6          1246  ALTO VERA CRUZ                                ...   \n",
              "7           699  ITAPOA                                        ...   \n",
              "\n",
              "  TIPO_BAIRRO           DESCRICAO_TIPO_BAIRRO NUMERO_IMOVEL  \n",
              "1          B   BAIRRO                                   S/N  \n",
              "2          B   BAIRRO                                 10660  \n",
              "3          B   BAIRRO                                   199  \n",
              "6          B   BAIRRO                                  2164  \n",
              "7          B   BAIRRO                                  4611  \n",
              "\n",
              "[5 rows x 29 columns]"
            ],
            "text/html": [
              "\n",
              "  <div id=\"df-934628a2-fd8e-44c0-8eae-ce7238d268a1\">\n",
              "    <div class=\"colab-df-container\">\n",
              "      <div>\n",
              "<style scoped>\n",
              "    .dataframe tbody tr th:only-of-type {\n",
              "        vertical-align: middle;\n",
              "    }\n",
              "\n",
              "    .dataframe tbody tr th {\n",
              "        vertical-align: top;\n",
              "    }\n",
              "\n",
              "    .dataframe thead th {\n",
              "        text-align: right;\n",
              "    }\n",
              "</style>\n",
              "<table border=\"1\" class=\"dataframe\">\n",
              "  <thead>\n",
              "    <tr style=\"text-align: right;\">\n",
              "      <th></th>\n",
              "      <th>NUMERO_BOLETIM</th>\n",
              "      <th>DATA_HORA_BOLETIM</th>\n",
              "      <th>DATA_INCLUSAO</th>\n",
              "      <th>TIPO_ACIDENTE</th>\n",
              "      <th>DESC_TIPO_ACIDENTE</th>\n",
              "      <th>COD_TEMPO</th>\n",
              "      <th>DESC_TEMPO</th>\n",
              "      <th>COD_PAVIMENTO</th>\n",
              "      <th>PAVIMENTO</th>\n",
              "      <th>COD_REGIONAL</th>\n",
              "      <th>...</th>\n",
              "      <th>NOME_MUNICIPIO</th>\n",
              "      <th>SEQUENCIA_LOGRADOUROS</th>\n",
              "      <th>NUMERO_LOGRADOURO</th>\n",
              "      <th>TIPO_LOGRADOURO</th>\n",
              "      <th>NOME_LOGRADOURO</th>\n",
              "      <th>NUMERO_BAIRRO</th>\n",
              "      <th>NOME_BAIRRO</th>\n",
              "      <th>TIPO_BAIRRO</th>\n",
              "      <th>DESCRICAO_TIPO_BAIRRO</th>\n",
              "      <th>NUMERO_IMOVEL</th>\n",
              "    </tr>\n",
              "  </thead>\n",
              "  <tbody>\n",
              "    <tr>\n",
              "      <th>1</th>\n",
              "      <td>161</td>\n",
              "      <td>2011-12-31 22:16:00</td>\n",
              "      <td>2012-02-14</td>\n",
              "      <td>H08002</td>\n",
              "      <td>CHOQUE MECANICO COM VITIMA                    ...</td>\n",
              "      <td>1</td>\n",
              "      <td>BOM</td>\n",
              "      <td>1</td>\n",
              "      <td>ASFALTO</td>\n",
              "      <td>18</td>\n",
              "      <td>...</td>\n",
              "      <td>BELO HORIZONTE</td>\n",
              "      <td>1</td>\n",
              "      <td>10320</td>\n",
              "      <td>ROD</td>\n",
              "      <td>ANEL RODOVIARIO CELSO MELLO AZEVEDO           ...</td>\n",
              "      <td>610</td>\n",
              "      <td>DAS INDUSTRIAS                                ...</td>\n",
              "      <td>B</td>\n",
              "      <td>BAIRRO</td>\n",
              "      <td>S/N</td>\n",
              "    </tr>\n",
              "    <tr>\n",
              "      <th>2</th>\n",
              "      <td>198</td>\n",
              "      <td>2011-01-01 00:50:00</td>\n",
              "      <td>2011-10-02</td>\n",
              "      <td>H01002</td>\n",
              "      <td>ABALROAMENTO COM VITIMA                       ...</td>\n",
              "      <td>1</td>\n",
              "      <td>BOM</td>\n",
              "      <td>1</td>\n",
              "      <td>ASFALTO</td>\n",
              "      <td>19</td>\n",
              "      <td>...</td>\n",
              "      <td>BELO HORIZONTE</td>\n",
              "      <td>1</td>\n",
              "      <td>17228</td>\n",
              "      <td>AVE</td>\n",
              "      <td>DO CONTORNO                                   ...</td>\n",
              "      <td>617</td>\n",
              "      <td>BARRO PRETO                                   ...</td>\n",
              "      <td>B</td>\n",
              "      <td>BAIRRO</td>\n",
              "      <td>10660</td>\n",
              "    </tr>\n",
              "    <tr>\n",
              "      <th>3</th>\n",
              "      <td>223</td>\n",
              "      <td>2011-01-01 00:20:00</td>\n",
              "      <td>2011-10-02</td>\n",
              "      <td>H04000</td>\n",
              "      <td>QUEDA DE PESSOA DE VEICULO                    ...</td>\n",
              "      <td>1</td>\n",
              "      <td>BOM</td>\n",
              "      <td>1</td>\n",
              "      <td>ASFALTO</td>\n",
              "      <td>20</td>\n",
              "      <td>...</td>\n",
              "      <td>BELO HORIZONTE</td>\n",
              "      <td>1</td>\n",
              "      <td>45395</td>\n",
              "      <td>AVE</td>\n",
              "      <td>MEM DE SA                                     ...</td>\n",
              "      <td>1307</td>\n",
              "      <td>CONEGO PINHEIRO PRIMEIRA SECAO                ...</td>\n",
              "      <td>B</td>\n",
              "      <td>BAIRRO</td>\n",
              "      <td>199</td>\n",
              "    </tr>\n",
              "    <tr>\n",
              "      <th>6</th>\n",
              "      <td>343</td>\n",
              "      <td>2011-12-31 22:27:00</td>\n",
              "      <td>2012-02-14</td>\n",
              "      <td>H01002</td>\n",
              "      <td>ABALROAMENTO COM VITIMA                       ...</td>\n",
              "      <td>1</td>\n",
              "      <td>BOM</td>\n",
              "      <td>1</td>\n",
              "      <td>ASFALTO</td>\n",
              "      <td>20</td>\n",
              "      <td>...</td>\n",
              "      <td>BELO HORIZONTE</td>\n",
              "      <td>1</td>\n",
              "      <td>40770</td>\n",
              "      <td>RUA</td>\n",
              "      <td>LEOPOLDO GOMES                                ...</td>\n",
              "      <td>1246</td>\n",
              "      <td>ALTO VERA CRUZ                                ...</td>\n",
              "      <td>B</td>\n",
              "      <td>BAIRRO</td>\n",
              "      <td>2164</td>\n",
              "    </tr>\n",
              "    <tr>\n",
              "      <th>7</th>\n",
              "      <td>442</td>\n",
              "      <td>2011-09-07 23:35:00</td>\n",
              "      <td>2011-08-24</td>\n",
              "      <td>H01002</td>\n",
              "      <td>ABALROAMENTO COM VITIMA                       ...</td>\n",
              "      <td>1</td>\n",
              "      <td>BOM</td>\n",
              "      <td>1</td>\n",
              "      <td>ASFALTO</td>\n",
              "      <td>25</td>\n",
              "      <td>...</td>\n",
              "      <td>BELO HORIZONTE</td>\n",
              "      <td>1</td>\n",
              "      <td>54816</td>\n",
              "      <td>AVE</td>\n",
              "      <td>PORTUGAL                                      ...</td>\n",
              "      <td>699</td>\n",
              "      <td>ITAPOA                                        ...</td>\n",
              "      <td>B</td>\n",
              "      <td>BAIRRO</td>\n",
              "      <td>4611</td>\n",
              "    </tr>\n",
              "  </tbody>\n",
              "</table>\n",
              "<p>5 rows × 29 columns</p>\n",
              "</div>\n",
              "      <button class=\"colab-df-convert\" onclick=\"convertToInteractive('df-934628a2-fd8e-44c0-8eae-ce7238d268a1')\"\n",
              "              title=\"Convert this dataframe to an interactive table.\"\n",
              "              style=\"display:none;\">\n",
              "        \n",
              "  <svg xmlns=\"http://www.w3.org/2000/svg\" height=\"24px\"viewBox=\"0 0 24 24\"\n",
              "       width=\"24px\">\n",
              "    <path d=\"M0 0h24v24H0V0z\" fill=\"none\"/>\n",
              "    <path d=\"M18.56 5.44l.94 2.06.94-2.06 2.06-.94-2.06-.94-.94-2.06-.94 2.06-2.06.94zm-11 1L8.5 8.5l.94-2.06 2.06-.94-2.06-.94L8.5 2.5l-.94 2.06-2.06.94zm10 10l.94 2.06.94-2.06 2.06-.94-2.06-.94-.94-2.06-.94 2.06-2.06.94z\"/><path d=\"M17.41 7.96l-1.37-1.37c-.4-.4-.92-.59-1.43-.59-.52 0-1.04.2-1.43.59L10.3 9.45l-7.72 7.72c-.78.78-.78 2.05 0 2.83L4 21.41c.39.39.9.59 1.41.59.51 0 1.02-.2 1.41-.59l7.78-7.78 2.81-2.81c.8-.78.8-2.07 0-2.86zM5.41 20L4 18.59l7.72-7.72 1.47 1.35L5.41 20z\"/>\n",
              "  </svg>\n",
              "      </button>\n",
              "      \n",
              "  <style>\n",
              "    .colab-df-container {\n",
              "      display:flex;\n",
              "      flex-wrap:wrap;\n",
              "      gap: 12px;\n",
              "    }\n",
              "\n",
              "    .colab-df-convert {\n",
              "      background-color: #E8F0FE;\n",
              "      border: none;\n",
              "      border-radius: 50%;\n",
              "      cursor: pointer;\n",
              "      display: none;\n",
              "      fill: #1967D2;\n",
              "      height: 32px;\n",
              "      padding: 0 0 0 0;\n",
              "      width: 32px;\n",
              "    }\n",
              "\n",
              "    .colab-df-convert:hover {\n",
              "      background-color: #E2EBFA;\n",
              "      box-shadow: 0px 1px 2px rgba(60, 64, 67, 0.3), 0px 1px 3px 1px rgba(60, 64, 67, 0.15);\n",
              "      fill: #174EA6;\n",
              "    }\n",
              "\n",
              "    [theme=dark] .colab-df-convert {\n",
              "      background-color: #3B4455;\n",
              "      fill: #D2E3FC;\n",
              "    }\n",
              "\n",
              "    [theme=dark] .colab-df-convert:hover {\n",
              "      background-color: #434B5C;\n",
              "      box-shadow: 0px 1px 3px 1px rgba(0, 0, 0, 0.15);\n",
              "      filter: drop-shadow(0px 1px 2px rgba(0, 0, 0, 0.3));\n",
              "      fill: #FFFFFF;\n",
              "    }\n",
              "  </style>\n",
              "\n",
              "      <script>\n",
              "        const buttonEl =\n",
              "          document.querySelector('#df-934628a2-fd8e-44c0-8eae-ce7238d268a1 button.colab-df-convert');\n",
              "        buttonEl.style.display =\n",
              "          google.colab.kernel.accessAllowed ? 'block' : 'none';\n",
              "\n",
              "        async function convertToInteractive(key) {\n",
              "          const element = document.querySelector('#df-934628a2-fd8e-44c0-8eae-ce7238d268a1');\n",
              "          const dataTable =\n",
              "            await google.colab.kernel.invokeFunction('convertToInteractive',\n",
              "                                                     [key], {});\n",
              "          if (!dataTable) return;\n",
              "\n",
              "          const docLinkHtml = 'Like what you see? Visit the ' +\n",
              "            '<a target=\"_blank\" href=https://colab.research.google.com/notebooks/data_table.ipynb>data table notebook</a>'\n",
              "            + ' to learn more about interactive tables.';\n",
              "          element.innerHTML = '';\n",
              "          dataTable['output_type'] = 'display_data';\n",
              "          await google.colab.output.renderOutput(dataTable, element);\n",
              "          const docLink = document.createElement('div');\n",
              "          docLink.innerHTML = docLinkHtml;\n",
              "          element.appendChild(docLink);\n",
              "        }\n",
              "      </script>\n",
              "    </div>\n",
              "  </div>\n",
              "  "
            ]
          },
          "metadata": {},
          "execution_count": 668
        }
      ]
    },
    {
      "cell_type": "markdown",
      "source": [
        "# Salvando em CSV"
      ],
      "metadata": {
        "id": "MD4X1fd5daN4"
      }
    },
    {
      "cell_type": "code",
      "source": [
        "df.to_csv('/content/drive/MyDrive/Colab Notebooks/Projeto Grupo 12/Datasets/df_final.csv')"
      ],
      "metadata": {
        "id": "2EJr44sHdZly"
      },
      "execution_count": null,
      "outputs": []
    },
    {
      "cell_type": "code",
      "source": [],
      "metadata": {
        "id": "-O_IueQpdrYc"
      },
      "execution_count": null,
      "outputs": []
    }
  ]
}